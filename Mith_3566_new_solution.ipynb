{
 "cells": [
  {
   "cell_type": "markdown",
   "metadata": {},
   "source": [
    "# The New Approach (Merging Rows Approch)"
   ]
  },
  {
   "cell_type": "code",
   "execution_count": 1,
   "metadata": {},
   "outputs": [],
   "source": [
    "#checking the changes\n",
    "import pandas as pd\n",
    "import numpy as np\n",
    "import seaborn as sns\n",
    "import matplotlib.pyplot as plt\n",
    "import plotly.express as px\n",
    "from sklearn.model_selection import train_test_split\n",
    "from sklearn.model_selection import GridSearchCV\n",
    "from sklearn.preprocessing import LabelEncoder\n",
    "from sklearn.tree import DecisionTreeClassifier\n",
    "from sklearn.metrics import classification_report\n",
    "from sklearn.ensemble import RandomForestClassifier\n",
    "#from imblearn.over_sampling import RandomOverSampler\n",
    "from sklearn.ensemble import AdaBoostClassifier\n",
    "from sklearn.ensemble import GradientBoostingClassifier\n",
    "from xgboost import XGBClassifier\n",
    "from lightgbm import LGBMClassifier\n",
    "from sklearn.model_selection import StratifiedKFold\n",
    "from sklearn.model_selection import RandomizedSearchCV\n",
    "import warnings\n",
    "import os\n",
    "warnings.filterwarnings('ignore')\n",
    "os.chdir(\"C:\\\\Users\\\\surbhi.rani\\\\Downloads\\\\Mith_sid\\\\Mith_sid\\\\data_for_all\")"
   ]
  },
  {
   "cell_type": "markdown",
   "metadata": {},
   "source": [
    "# Reading the Data"
   ]
  },
  {
   "cell_type": "code",
   "execution_count": 2,
   "metadata": {},
   "outputs": [],
   "source": [
    "train_data = pd.read_csv(\"train_data.csv\", na_values=[\" \",\"?\",\"#\"])\n",
    "test_data = pd.read_csv(\"test_data.csv\", na_values=[\" \", \"?\", \"#\"])\n",
    "assembly_line_data = pd.read_csv(\"assembly_line_info.csv\", na_values=[\" \", \"?\", \"#\"])\n",
    "car_variant_data = pd.read_csv(\"car_variant_data.csv\", na_values=[\" \", \"?\", \"#\"])\n",
    "issue_info_data = pd.read_csv(\"issue_info.csv\", na_values=[\" \", \"?\", \"#\"])\n",
    "log_report_type_data = pd.read_csv(\"log_report_type_data.csv\", na_values=[\" \", \"?\", \"#\"])"
   ]
  },
  {
   "cell_type": "code",
   "execution_count": 3,
   "metadata": {},
   "outputs": [
    {
     "name": "stdout",
     "output_type": "stream",
     "text": [
      "The shape of train data is:  (5904, 3)\n",
      "The shape of test data is:  (1477, 2)\n",
      "The shape of assembly line data is:  (21076, 2)\n",
      "The shape of car variant data is:  (31170, 2)\n",
      "The shape of issue info data is:  (18552, 2)\n",
      "The shape of the log report data is:  (58671, 3)\n"
     ]
    }
   ],
   "source": [
    "print(\"The shape of train data is: \",train_data.shape)\n",
    "print(\"The shape of test data is: \",test_data.shape)\n",
    "print(\"The shape of assembly line data is: \",assembly_line_data.shape)\n",
    "print(\"The shape of car variant data is: \",car_variant_data.shape)\n",
    "print(\"The shape of issue info data is: \",issue_info_data.shape)\n",
    "print(\"The shape of the log report data is: \",log_report_type_data.shape)"
   ]
  },
  {
   "cell_type": "code",
   "execution_count": 4,
   "metadata": {},
   "outputs": [
    {
     "data": {
      "text/html": [
       "<div>\n",
       "<style scoped>\n",
       "    .dataframe tbody tr th:only-of-type {\n",
       "        vertical-align: middle;\n",
       "    }\n",
       "\n",
       "    .dataframe tbody tr th {\n",
       "        vertical-align: top;\n",
       "    }\n",
       "\n",
       "    .dataframe thead th {\n",
       "        text-align: right;\n",
       "    }\n",
       "</style>\n",
       "<table border=\"1\" class=\"dataframe\">\n",
       "  <thead>\n",
       "    <tr style=\"text-align: right;\">\n",
       "      <th></th>\n",
       "      <th>id</th>\n",
       "      <th>factory_number</th>\n",
       "      <th>downtime_duration</th>\n",
       "    </tr>\n",
       "  </thead>\n",
       "  <tbody>\n",
       "    <tr>\n",
       "      <th>0</th>\n",
       "      <td>13366</td>\n",
       "      <td>factory_number_415</td>\n",
       "      <td>1</td>\n",
       "    </tr>\n",
       "    <tr>\n",
       "      <th>1</th>\n",
       "      <td>6783</td>\n",
       "      <td>factory_number_474</td>\n",
       "      <td>0</td>\n",
       "    </tr>\n",
       "    <tr>\n",
       "      <th>2</th>\n",
       "      <td>9519</td>\n",
       "      <td>factory_number_931</td>\n",
       "      <td>1</td>\n",
       "    </tr>\n",
       "    <tr>\n",
       "      <th>3</th>\n",
       "      <td>10202</td>\n",
       "      <td>factory_number_700</td>\n",
       "      <td>1</td>\n",
       "    </tr>\n",
       "    <tr>\n",
       "      <th>4</th>\n",
       "      <td>4555</td>\n",
       "      <td>factory_number_600</td>\n",
       "      <td>2</td>\n",
       "    </tr>\n",
       "  </tbody>\n",
       "</table>\n",
       "</div>"
      ],
      "text/plain": [
       "      id      factory_number  downtime_duration\n",
       "0  13366  factory_number_415                  1\n",
       "1   6783  factory_number_474                  0\n",
       "2   9519  factory_number_931                  1\n",
       "3  10202  factory_number_700                  1\n",
       "4   4555  factory_number_600                  2"
      ]
     },
     "execution_count": 4,
     "metadata": {},
     "output_type": "execute_result"
    }
   ],
   "source": [
    "train_data.head() "
   ]
  },
  {
   "cell_type": "code",
   "execution_count": 5,
   "metadata": {},
   "outputs": [
    {
     "data": {
      "text/plain": [
       "0    3827\n",
       "1    1496\n",
       "2     581\n",
       "Name: downtime_duration, dtype: int64"
      ]
     },
     "execution_count": 5,
     "metadata": {},
     "output_type": "execute_result"
    }
   ],
   "source": [
    "train_data.downtime_duration.value_counts() "
   ]
  },
  {
   "cell_type": "code",
   "execution_count": 6,
   "metadata": {},
   "outputs": [
    {
     "data": {
      "text/html": [
       "<div>\n",
       "<style scoped>\n",
       "    .dataframe tbody tr th:only-of-type {\n",
       "        vertical-align: middle;\n",
       "    }\n",
       "\n",
       "    .dataframe tbody tr th {\n",
       "        vertical-align: top;\n",
       "    }\n",
       "\n",
       "    .dataframe thead th {\n",
       "        text-align: right;\n",
       "    }\n",
       "</style>\n",
       "<table border=\"1\" class=\"dataframe\">\n",
       "  <thead>\n",
       "    <tr style=\"text-align: right;\">\n",
       "      <th></th>\n",
       "      <th>id</th>\n",
       "      <th>factory_number</th>\n",
       "    </tr>\n",
       "  </thead>\n",
       "  <tbody>\n",
       "    <tr>\n",
       "      <th>0</th>\n",
       "      <td>3340</td>\n",
       "      <td>factory_number_344</td>\n",
       "    </tr>\n",
       "    <tr>\n",
       "      <th>1</th>\n",
       "      <td>14067</td>\n",
       "      <td>factory_number_933</td>\n",
       "    </tr>\n",
       "    <tr>\n",
       "      <th>2</th>\n",
       "      <td>1134</td>\n",
       "      <td>factory_number_16</td>\n",
       "    </tr>\n",
       "    <tr>\n",
       "      <th>3</th>\n",
       "      <td>27</td>\n",
       "      <td>factory_number_793</td>\n",
       "    </tr>\n",
       "    <tr>\n",
       "      <th>4</th>\n",
       "      <td>9793</td>\n",
       "      <td>factory_number_344</td>\n",
       "    </tr>\n",
       "  </tbody>\n",
       "</table>\n",
       "</div>"
      ],
      "text/plain": [
       "      id      factory_number\n",
       "0   3340  factory_number_344\n",
       "1  14067  factory_number_933\n",
       "2   1134   factory_number_16\n",
       "3     27  factory_number_793\n",
       "4   9793  factory_number_344"
      ]
     },
     "execution_count": 6,
     "metadata": {},
     "output_type": "execute_result"
    }
   ],
   "source": [
    "test_data.head() "
   ]
  },
  {
   "cell_type": "code",
   "execution_count": 7,
   "metadata": {},
   "outputs": [
    {
     "name": "stdout",
     "output_type": "stream",
     "text": [
      "(21076, 2)\n",
      "18552\n"
     ]
    },
    {
     "data": {
      "text/html": [
       "<div>\n",
       "<style scoped>\n",
       "    .dataframe tbody tr th:only-of-type {\n",
       "        vertical-align: middle;\n",
       "    }\n",
       "\n",
       "    .dataframe tbody tr th {\n",
       "        vertical-align: top;\n",
       "    }\n",
       "\n",
       "    .dataframe thead th {\n",
       "        text-align: right;\n",
       "    }\n",
       "</style>\n",
       "<table border=\"1\" class=\"dataframe\">\n",
       "  <thead>\n",
       "    <tr style=\"text-align: right;\">\n",
       "      <th></th>\n",
       "      <th>id</th>\n",
       "      <th>assembly_line_type</th>\n",
       "    </tr>\n",
       "  </thead>\n",
       "  <tbody>\n",
       "    <tr>\n",
       "      <th>0</th>\n",
       "      <td>6597</td>\n",
       "      <td>assembly_line_type_8</td>\n",
       "    </tr>\n",
       "    <tr>\n",
       "      <th>1</th>\n",
       "      <td>8011</td>\n",
       "      <td>assembly_line_type_8</td>\n",
       "    </tr>\n",
       "    <tr>\n",
       "      <th>2</th>\n",
       "      <td>2597</td>\n",
       "      <td>assembly_line_type_8</td>\n",
       "    </tr>\n",
       "    <tr>\n",
       "      <th>3</th>\n",
       "      <td>5022</td>\n",
       "      <td>assembly_line_type_8</td>\n",
       "    </tr>\n",
       "    <tr>\n",
       "      <th>4</th>\n",
       "      <td>6852</td>\n",
       "      <td>assembly_line_type_8</td>\n",
       "    </tr>\n",
       "  </tbody>\n",
       "</table>\n",
       "</div>"
      ],
      "text/plain": [
       "     id    assembly_line_type\n",
       "0  6597  assembly_line_type_8\n",
       "1  8011  assembly_line_type_8\n",
       "2  2597  assembly_line_type_8\n",
       "3  5022  assembly_line_type_8\n",
       "4  6852  assembly_line_type_8"
      ]
     },
     "execution_count": 7,
     "metadata": {},
     "output_type": "execute_result"
    }
   ],
   "source": [
    "print(assembly_line_data.shape) \n",
    "print(assembly_line_data.id.nunique())\n",
    "assembly_line_data.head() "
   ]
  },
  {
   "cell_type": "code",
   "execution_count": 8,
   "metadata": {},
   "outputs": [
    {
     "name": "stdout",
     "output_type": "stream",
     "text": [
      "(18552, 2)\n",
      "18552\n",
      "5\n"
     ]
    },
    {
     "data": {
      "text/html": [
       "<div>\n",
       "<style scoped>\n",
       "    .dataframe tbody tr th:only-of-type {\n",
       "        vertical-align: middle;\n",
       "    }\n",
       "\n",
       "    .dataframe tbody tr th {\n",
       "        vertical-align: top;\n",
       "    }\n",
       "\n",
       "    .dataframe thead th {\n",
       "        text-align: right;\n",
       "    }\n",
       "</style>\n",
       "<table border=\"1\" class=\"dataframe\">\n",
       "  <thead>\n",
       "    <tr style=\"text-align: right;\">\n",
       "      <th></th>\n",
       "      <th>id</th>\n",
       "      <th>issue_type</th>\n",
       "    </tr>\n",
       "  </thead>\n",
       "  <tbody>\n",
       "    <tr>\n",
       "      <th>0</th>\n",
       "      <td>6597</td>\n",
       "      <td>issue_type_2</td>\n",
       "    </tr>\n",
       "    <tr>\n",
       "      <th>1</th>\n",
       "      <td>8011</td>\n",
       "      <td>issue_type_2</td>\n",
       "    </tr>\n",
       "    <tr>\n",
       "      <th>2</th>\n",
       "      <td>2597</td>\n",
       "      <td>issue_type_2</td>\n",
       "    </tr>\n",
       "    <tr>\n",
       "      <th>3</th>\n",
       "      <td>5022</td>\n",
       "      <td>issue_type_1</td>\n",
       "    </tr>\n",
       "    <tr>\n",
       "      <th>4</th>\n",
       "      <td>6852</td>\n",
       "      <td>issue_type_1</td>\n",
       "    </tr>\n",
       "  </tbody>\n",
       "</table>\n",
       "</div>"
      ],
      "text/plain": [
       "     id    issue_type\n",
       "0  6597  issue_type_2\n",
       "1  8011  issue_type_2\n",
       "2  2597  issue_type_2\n",
       "3  5022  issue_type_1\n",
       "4  6852  issue_type_1"
      ]
     },
     "execution_count": 8,
     "metadata": {},
     "output_type": "execute_result"
    }
   ],
   "source": [
    "print(issue_info_data.shape)\n",
    "print(issue_info_data.id.nunique())\n",
    "print(issue_info_data.issue_type.nunique())\n",
    "issue_info_data.head() "
   ]
  },
  {
   "cell_type": "code",
   "execution_count": 9,
   "metadata": {},
   "outputs": [
    {
     "name": "stdout",
     "output_type": "stream",
     "text": [
      "(31170, 2)\n",
      "18552\n",
      "53\n"
     ]
    },
    {
     "data": {
      "text/html": [
       "<div>\n",
       "<style scoped>\n",
       "    .dataframe tbody tr th:only-of-type {\n",
       "        vertical-align: middle;\n",
       "    }\n",
       "\n",
       "    .dataframe tbody tr th {\n",
       "        vertical-align: top;\n",
       "    }\n",
       "\n",
       "    .dataframe thead th {\n",
       "        text-align: right;\n",
       "    }\n",
       "</style>\n",
       "<table border=\"1\" class=\"dataframe\">\n",
       "  <thead>\n",
       "    <tr style=\"text-align: right;\">\n",
       "      <th></th>\n",
       "      <th>id</th>\n",
       "      <th>car_variant</th>\n",
       "    </tr>\n",
       "  </thead>\n",
       "  <tbody>\n",
       "    <tr>\n",
       "      <th>0</th>\n",
       "      <td>6597</td>\n",
       "      <td>car_variant_11</td>\n",
       "    </tr>\n",
       "    <tr>\n",
       "      <th>1</th>\n",
       "      <td>8011</td>\n",
       "      <td>car_variant_15</td>\n",
       "    </tr>\n",
       "    <tr>\n",
       "      <th>2</th>\n",
       "      <td>2597</td>\n",
       "      <td>car_variant_15</td>\n",
       "    </tr>\n",
       "    <tr>\n",
       "      <th>3</th>\n",
       "      <td>5022</td>\n",
       "      <td>car_variant_15</td>\n",
       "    </tr>\n",
       "    <tr>\n",
       "      <th>4</th>\n",
       "      <td>5022</td>\n",
       "      <td>car_variant_11</td>\n",
       "    </tr>\n",
       "  </tbody>\n",
       "</table>\n",
       "</div>"
      ],
      "text/plain": [
       "     id     car_variant\n",
       "0  6597  car_variant_11\n",
       "1  8011  car_variant_15\n",
       "2  2597  car_variant_15\n",
       "3  5022  car_variant_15\n",
       "4  5022  car_variant_11"
      ]
     },
     "execution_count": 9,
     "metadata": {},
     "output_type": "execute_result"
    }
   ],
   "source": [
    "print(car_variant_data.shape)\n",
    "print(car_variant_data.id.nunique())\n",
    "print(car_variant_data.car_variant.nunique())\n",
    "car_variant_data.head() "
   ]
  },
  {
   "cell_type": "code",
   "execution_count": 10,
   "metadata": {},
   "outputs": [
    {
     "name": "stdout",
     "output_type": "stream",
     "text": [
      "(58671, 3)\n",
      "18552\n",
      "386\n"
     ]
    },
    {
     "data": {
      "text/html": [
       "<div>\n",
       "<style scoped>\n",
       "    .dataframe tbody tr th:only-of-type {\n",
       "        vertical-align: middle;\n",
       "    }\n",
       "\n",
       "    .dataframe tbody tr th {\n",
       "        vertical-align: top;\n",
       "    }\n",
       "\n",
       "    .dataframe thead th {\n",
       "        text-align: right;\n",
       "    }\n",
       "</style>\n",
       "<table border=\"1\" class=\"dataframe\">\n",
       "  <thead>\n",
       "    <tr style=\"text-align: right;\">\n",
       "      <th></th>\n",
       "      <th>id</th>\n",
       "      <th>log_report_type</th>\n",
       "      <th>volume</th>\n",
       "    </tr>\n",
       "  </thead>\n",
       "  <tbody>\n",
       "    <tr>\n",
       "      <th>0</th>\n",
       "      <td>6597</td>\n",
       "      <td>log_report_type_68</td>\n",
       "      <td>6</td>\n",
       "    </tr>\n",
       "    <tr>\n",
       "      <th>1</th>\n",
       "      <td>8011</td>\n",
       "      <td>log_report_type_68</td>\n",
       "      <td>7</td>\n",
       "    </tr>\n",
       "    <tr>\n",
       "      <th>2</th>\n",
       "      <td>2597</td>\n",
       "      <td>log_report_type_68</td>\n",
       "      <td>1</td>\n",
       "    </tr>\n",
       "    <tr>\n",
       "      <th>3</th>\n",
       "      <td>5022</td>\n",
       "      <td>log_report_type_172</td>\n",
       "      <td>2</td>\n",
       "    </tr>\n",
       "    <tr>\n",
       "      <th>4</th>\n",
       "      <td>5022</td>\n",
       "      <td>log_report_type_56</td>\n",
       "      <td>1</td>\n",
       "    </tr>\n",
       "  </tbody>\n",
       "</table>\n",
       "</div>"
      ],
      "text/plain": [
       "     id      log_report_type  volume\n",
       "0  6597   log_report_type_68       6\n",
       "1  8011   log_report_type_68       7\n",
       "2  2597   log_report_type_68       1\n",
       "3  5022  log_report_type_172       2\n",
       "4  5022   log_report_type_56       1"
      ]
     },
     "execution_count": 10,
     "metadata": {},
     "output_type": "execute_result"
    }
   ],
   "source": [
    "print(log_report_type_data.shape)\n",
    "print(log_report_type_data.id.nunique())\n",
    "print(log_report_type_data.log_report_type.nunique()) \n",
    "log_report_type_data.head() "
   ]
  },
  {
   "cell_type": "code",
   "execution_count": 11,
   "metadata": {},
   "outputs": [
    {
     "data": {
      "text/html": [
       "<div>\n",
       "<style scoped>\n",
       "    .dataframe tbody tr th:only-of-type {\n",
       "        vertical-align: middle;\n",
       "    }\n",
       "\n",
       "    .dataframe tbody tr th {\n",
       "        vertical-align: top;\n",
       "    }\n",
       "\n",
       "    .dataframe thead th {\n",
       "        text-align: right;\n",
       "    }\n",
       "</style>\n",
       "<table border=\"1\" class=\"dataframe\">\n",
       "  <thead>\n",
       "    <tr style=\"text-align: right;\">\n",
       "      <th></th>\n",
       "      <th>id</th>\n",
       "      <th>assembly_line_type</th>\n",
       "    </tr>\n",
       "  </thead>\n",
       "  <tbody>\n",
       "    <tr>\n",
       "      <th>11285</th>\n",
       "      <td>1</td>\n",
       "      <td>6</td>\n",
       "    </tr>\n",
       "    <tr>\n",
       "      <th>11284</th>\n",
       "      <td>1</td>\n",
       "      <td>8</td>\n",
       "    </tr>\n",
       "    <tr>\n",
       "      <th>9069</th>\n",
       "      <td>2</td>\n",
       "      <td>2</td>\n",
       "    </tr>\n",
       "    <tr>\n",
       "      <th>11953</th>\n",
       "      <td>3</td>\n",
       "      <td>8</td>\n",
       "    </tr>\n",
       "    <tr>\n",
       "      <th>12102</th>\n",
       "      <td>4</td>\n",
       "      <td>2</td>\n",
       "    </tr>\n",
       "  </tbody>\n",
       "</table>\n",
       "</div>"
      ],
      "text/plain": [
       "       id  assembly_line_type\n",
       "11285   1                   6\n",
       "11284   1                   8\n",
       "9069    2                   2\n",
       "11953   3                   8\n",
       "12102   4                   2"
      ]
     },
     "execution_count": 11,
     "metadata": {},
     "output_type": "execute_result"
    }
   ],
   "source": [
    "# renaming thr column values, sorting and changing the type to int\n",
    "assembly_line_data.assembly_line_type = assembly_line_data[\"assembly_line_type\"].str.replace(\"assembly_line_type_\",\"\")\n",
    "assembly_line_data.assembly_line_type = assembly_line_data.assembly_line_type.astype(\"int\")\n",
    "assembly_line_data = assembly_line_data.sort_values(by=[\"id\",\"assembly_line_type\"])\n",
    "assembly_line_data.head()"
   ]
  },
  {
   "cell_type": "code",
   "execution_count": 12,
   "metadata": {},
   "outputs": [],
   "source": [
    "# This function merges rows into one cell based on id\n",
    "def merge_rows(data,id_col,merge_col):\n",
    "    unique_id = data[id_col].unique() # get unique names\n",
    "    new_data = []                 # data list for output dataframe\n",
    "    for u in unique_id:          # for each unique name\n",
    "        subdf = data[data[id_col] == u] # get rows with this unique name\n",
    "        s = \"\"\n",
    "        for i in subdf[merge_col]:\n",
    "            s += \"\"+str(i)+\",\"      # join all info cells for that name\n",
    "        new_data.append([u, s[:-1]])\n",
    "\n",
    "    newdf = pd.DataFrame(data=new_data, columns=[id_col,merge_col])\n",
    "    return newdf"
   ]
  },
  {
   "cell_type": "code",
   "execution_count": 13,
   "metadata": {},
   "outputs": [],
   "source": [
    "# Merging the assembly data based on id\n",
    "assembly_line_data_merged =merge_rows(assembly_line_data,id_col=\"id\",merge_col=\"assembly_line_type\")"
   ]
  },
  {
   "cell_type": "code",
   "execution_count": 14,
   "metadata": {},
   "outputs": [
    {
     "data": {
      "text/html": [
       "<div>\n",
       "<style scoped>\n",
       "    .dataframe tbody tr th:only-of-type {\n",
       "        vertical-align: middle;\n",
       "    }\n",
       "\n",
       "    .dataframe tbody tr th {\n",
       "        vertical-align: top;\n",
       "    }\n",
       "\n",
       "    .dataframe thead th {\n",
       "        text-align: right;\n",
       "    }\n",
       "</style>\n",
       "<table border=\"1\" class=\"dataframe\">\n",
       "  <thead>\n",
       "    <tr style=\"text-align: right;\">\n",
       "      <th></th>\n",
       "      <th>id</th>\n",
       "      <th>assembly_line_type</th>\n",
       "    </tr>\n",
       "  </thead>\n",
       "  <tbody>\n",
       "    <tr>\n",
       "      <th>0</th>\n",
       "      <td>1</td>\n",
       "      <td>6,8</td>\n",
       "    </tr>\n",
       "    <tr>\n",
       "      <th>1</th>\n",
       "      <td>2</td>\n",
       "      <td>2</td>\n",
       "    </tr>\n",
       "    <tr>\n",
       "      <th>2</th>\n",
       "      <td>3</td>\n",
       "      <td>8</td>\n",
       "    </tr>\n",
       "    <tr>\n",
       "      <th>3</th>\n",
       "      <td>4</td>\n",
       "      <td>2</td>\n",
       "    </tr>\n",
       "    <tr>\n",
       "      <th>4</th>\n",
       "      <td>5</td>\n",
       "      <td>2</td>\n",
       "    </tr>\n",
       "  </tbody>\n",
       "</table>\n",
       "</div>"
      ],
      "text/plain": [
       "   id assembly_line_type\n",
       "0   1                6,8\n",
       "1   2                  2\n",
       "2   3                  8\n",
       "3   4                  2\n",
       "4   5                  2"
      ]
     },
     "execution_count": 14,
     "metadata": {},
     "output_type": "execute_result"
    }
   ],
   "source": [
    "assembly_line_data_merged.head() "
   ]
  },
  {
   "cell_type": "code",
   "execution_count": 15,
   "metadata": {},
   "outputs": [
    {
     "data": {
      "text/html": [
       "<div>\n",
       "<style scoped>\n",
       "    .dataframe tbody tr th:only-of-type {\n",
       "        vertical-align: middle;\n",
       "    }\n",
       "\n",
       "    .dataframe tbody tr th {\n",
       "        vertical-align: top;\n",
       "    }\n",
       "\n",
       "    .dataframe thead th {\n",
       "        text-align: right;\n",
       "    }\n",
       "</style>\n",
       "<table border=\"1\" class=\"dataframe\">\n",
       "  <thead>\n",
       "    <tr style=\"text-align: right;\">\n",
       "      <th></th>\n",
       "      <th>id</th>\n",
       "      <th>car_variant</th>\n",
       "    </tr>\n",
       "  </thead>\n",
       "  <tbody>\n",
       "    <tr>\n",
       "      <th>18299</th>\n",
       "      <td>1</td>\n",
       "      <td>11</td>\n",
       "    </tr>\n",
       "    <tr>\n",
       "      <th>18300</th>\n",
       "      <td>1</td>\n",
       "      <td>13</td>\n",
       "    </tr>\n",
       "    <tr>\n",
       "      <th>14536</th>\n",
       "      <td>2</td>\n",
       "      <td>34</td>\n",
       "    </tr>\n",
       "    <tr>\n",
       "      <th>14535</th>\n",
       "      <td>2</td>\n",
       "      <td>35</td>\n",
       "    </tr>\n",
       "    <tr>\n",
       "      <th>19226</th>\n",
       "      <td>3</td>\n",
       "      <td>11</td>\n",
       "    </tr>\n",
       "  </tbody>\n",
       "</table>\n",
       "</div>"
      ],
      "text/plain": [
       "       id  car_variant\n",
       "18299   1           11\n",
       "18300   1           13\n",
       "14536   2           34\n",
       "14535   2           35\n",
       "19226   3           11"
      ]
     },
     "execution_count": 15,
     "metadata": {},
     "output_type": "execute_result"
    }
   ],
   "source": [
    "# renaming thr column values, sorting and changing the type to int\n",
    "car_variant_data.car_variant = car_variant_data[\"car_variant\"].str.replace(\"car_variant_\",\"\")\n",
    "car_variant_data.car_variant = car_variant_data.car_variant.astype(\"int\")\n",
    "car_variant_data = car_variant_data.sort_values(by=[\"id\",\"car_variant\"])\n",
    "car_variant_data.head()"
   ]
  },
  {
   "cell_type": "code",
   "execution_count": 16,
   "metadata": {},
   "outputs": [],
   "source": [
    "# Merging the car_variant data based on id\n",
    "car_variant_data_merged = merge_rows(car_variant_data, id_col=\"id\", merge_col=\"car_variant\")"
   ]
  },
  {
   "cell_type": "code",
   "execution_count": 17,
   "metadata": {},
   "outputs": [
    {
     "data": {
      "text/html": [
       "<div>\n",
       "<style scoped>\n",
       "    .dataframe tbody tr th:only-of-type {\n",
       "        vertical-align: middle;\n",
       "    }\n",
       "\n",
       "    .dataframe tbody tr th {\n",
       "        vertical-align: top;\n",
       "    }\n",
       "\n",
       "    .dataframe thead th {\n",
       "        text-align: right;\n",
       "    }\n",
       "</style>\n",
       "<table border=\"1\" class=\"dataframe\">\n",
       "  <thead>\n",
       "    <tr style=\"text-align: right;\">\n",
       "      <th></th>\n",
       "      <th>id</th>\n",
       "      <th>car_variant</th>\n",
       "    </tr>\n",
       "  </thead>\n",
       "  <tbody>\n",
       "    <tr>\n",
       "      <th>0</th>\n",
       "      <td>1</td>\n",
       "      <td>11,13</td>\n",
       "    </tr>\n",
       "    <tr>\n",
       "      <th>1</th>\n",
       "      <td>2</td>\n",
       "      <td>34,35</td>\n",
       "    </tr>\n",
       "    <tr>\n",
       "      <th>2</th>\n",
       "      <td>3</td>\n",
       "      <td>11</td>\n",
       "    </tr>\n",
       "    <tr>\n",
       "      <th>3</th>\n",
       "      <td>4</td>\n",
       "      <td>47</td>\n",
       "    </tr>\n",
       "    <tr>\n",
       "      <th>4</th>\n",
       "      <td>5</td>\n",
       "      <td>34,35</td>\n",
       "    </tr>\n",
       "  </tbody>\n",
       "</table>\n",
       "</div>"
      ],
      "text/plain": [
       "   id car_variant\n",
       "0   1       11,13\n",
       "1   2       34,35\n",
       "2   3          11\n",
       "3   4          47\n",
       "4   5       34,35"
      ]
     },
     "execution_count": 17,
     "metadata": {},
     "output_type": "execute_result"
    }
   ],
   "source": [
    "car_variant_data_merged.head() "
   ]
  },
  {
   "cell_type": "code",
   "execution_count": 18,
   "metadata": {},
   "outputs": [
    {
     "data": {
      "text/html": [
       "<div>\n",
       "<style scoped>\n",
       "    .dataframe tbody tr th:only-of-type {\n",
       "        vertical-align: middle;\n",
       "    }\n",
       "\n",
       "    .dataframe tbody tr th {\n",
       "        vertical-align: top;\n",
       "    }\n",
       "\n",
       "    .dataframe thead th {\n",
       "        text-align: right;\n",
       "    }\n",
       "</style>\n",
       "<table border=\"1\" class=\"dataframe\">\n",
       "  <thead>\n",
       "    <tr style=\"text-align: right;\">\n",
       "      <th></th>\n",
       "      <th>id</th>\n",
       "      <th>log_report_type</th>\n",
       "      <th>volume</th>\n",
       "    </tr>\n",
       "  </thead>\n",
       "  <tbody>\n",
       "    <tr>\n",
       "      <th>36197</th>\n",
       "      <td>1</td>\n",
       "      <td>68</td>\n",
       "      <td>2</td>\n",
       "    </tr>\n",
       "    <tr>\n",
       "      <th>36199</th>\n",
       "      <td>1</td>\n",
       "      <td>179</td>\n",
       "      <td>1</td>\n",
       "    </tr>\n",
       "    <tr>\n",
       "      <th>36198</th>\n",
       "      <td>1</td>\n",
       "      <td>345</td>\n",
       "      <td>2</td>\n",
       "    </tr>\n",
       "    <tr>\n",
       "      <th>27670</th>\n",
       "      <td>2</td>\n",
       "      <td>233</td>\n",
       "      <td>1</td>\n",
       "    </tr>\n",
       "    <tr>\n",
       "      <th>27669</th>\n",
       "      <td>2</td>\n",
       "      <td>235</td>\n",
       "      <td>1</td>\n",
       "    </tr>\n",
       "  </tbody>\n",
       "</table>\n",
       "</div>"
      ],
      "text/plain": [
       "       id  log_report_type  volume\n",
       "36197   1               68       2\n",
       "36199   1              179       1\n",
       "36198   1              345       2\n",
       "27670   2              233       1\n",
       "27669   2              235       1"
      ]
     },
     "execution_count": 18,
     "metadata": {},
     "output_type": "execute_result"
    }
   ],
   "source": [
    "# renaming thr column values, sorting, changing the type to int and aggregating the volume column\n",
    "log_report_type_data.log_report_type = log_report_type_data[\"log_report_type\"].str.replace(\"log_report_type_\",\"\")\n",
    "log_report_type_data.log_report_type = log_report_type_data.log_report_type.astype(\"int\")\n",
    "log_report_type_data = log_report_type_data.sort_values(by=[\"id\",\"log_report_type\"])\n",
    "log_report_type_data_aggregated = log_report_type_data.groupby(\"id\",as_index=False).agg({\"volume\":\"sum\"})\n",
    "log_report_type_data.head() "
   ]
  },
  {
   "cell_type": "code",
   "execution_count": 19,
   "metadata": {},
   "outputs": [],
   "source": [
    "# Dropping the Volume Column\n",
    "log_report_type_data.drop(\"volume\", axis =1,inplace=True) "
   ]
  },
  {
   "cell_type": "code",
   "execution_count": 20,
   "metadata": {},
   "outputs": [],
   "source": [
    "# merging the log_report_type based on id\n",
    "log_report_type_data_merged = merge_rows(log_report_type_data,id_col=\"id\", merge_col=\"log_report_type\")"
   ]
  },
  {
   "cell_type": "code",
   "execution_count": 21,
   "metadata": {},
   "outputs": [
    {
     "data": {
      "text/html": [
       "<div>\n",
       "<style scoped>\n",
       "    .dataframe tbody tr th:only-of-type {\n",
       "        vertical-align: middle;\n",
       "    }\n",
       "\n",
       "    .dataframe tbody tr th {\n",
       "        vertical-align: top;\n",
       "    }\n",
       "\n",
       "    .dataframe thead th {\n",
       "        text-align: right;\n",
       "    }\n",
       "</style>\n",
       "<table border=\"1\" class=\"dataframe\">\n",
       "  <thead>\n",
       "    <tr style=\"text-align: right;\">\n",
       "      <th></th>\n",
       "      <th>id</th>\n",
       "      <th>log_report_type</th>\n",
       "    </tr>\n",
       "  </thead>\n",
       "  <tbody>\n",
       "    <tr>\n",
       "      <th>0</th>\n",
       "      <td>1</td>\n",
       "      <td>68,179,345</td>\n",
       "    </tr>\n",
       "    <tr>\n",
       "      <th>1</th>\n",
       "      <td>2</td>\n",
       "      <td>233,235,312,313,315</td>\n",
       "    </tr>\n",
       "    <tr>\n",
       "      <th>2</th>\n",
       "      <td>3</td>\n",
       "      <td>171</td>\n",
       "    </tr>\n",
       "    <tr>\n",
       "      <th>3</th>\n",
       "      <td>4</td>\n",
       "      <td>370</td>\n",
       "    </tr>\n",
       "    <tr>\n",
       "      <th>4</th>\n",
       "      <td>5</td>\n",
       "      <td>232,312</td>\n",
       "    </tr>\n",
       "  </tbody>\n",
       "</table>\n",
       "</div>"
      ],
      "text/plain": [
       "   id      log_report_type\n",
       "0   1           68,179,345\n",
       "1   2  233,235,312,313,315\n",
       "2   3                  171\n",
       "3   4                  370\n",
       "4   5              232,312"
      ]
     },
     "execution_count": 21,
     "metadata": {},
     "output_type": "execute_result"
    }
   ],
   "source": [
    "log_report_type_data_merged.head() "
   ]
  },
  {
   "cell_type": "code",
   "execution_count": 22,
   "metadata": {},
   "outputs": [],
   "source": [
    "#Combining the merged log_report_type and aggregated Volume data\n",
    "log_report_type_data_aggregated_merged = pd.merge(log_report_type_data_merged,\n",
    "                                                  log_report_type_data_aggregated, on=\"id\",\n",
    "                                                 how=\"left\")"
   ]
  },
  {
   "cell_type": "code",
   "execution_count": 23,
   "metadata": {},
   "outputs": [
    {
     "data": {
      "text/html": [
       "<div>\n",
       "<style scoped>\n",
       "    .dataframe tbody tr th:only-of-type {\n",
       "        vertical-align: middle;\n",
       "    }\n",
       "\n",
       "    .dataframe tbody tr th {\n",
       "        vertical-align: top;\n",
       "    }\n",
       "\n",
       "    .dataframe thead th {\n",
       "        text-align: right;\n",
       "    }\n",
       "</style>\n",
       "<table border=\"1\" class=\"dataframe\">\n",
       "  <thead>\n",
       "    <tr style=\"text-align: right;\">\n",
       "      <th></th>\n",
       "      <th>id</th>\n",
       "      <th>log_report_type</th>\n",
       "      <th>volume</th>\n",
       "    </tr>\n",
       "  </thead>\n",
       "  <tbody>\n",
       "    <tr>\n",
       "      <th>0</th>\n",
       "      <td>1</td>\n",
       "      <td>68,179,345</td>\n",
       "      <td>5</td>\n",
       "    </tr>\n",
       "    <tr>\n",
       "      <th>1</th>\n",
       "      <td>2</td>\n",
       "      <td>233,235,312,313,315</td>\n",
       "      <td>5</td>\n",
       "    </tr>\n",
       "    <tr>\n",
       "      <th>2</th>\n",
       "      <td>3</td>\n",
       "      <td>171</td>\n",
       "      <td>2</td>\n",
       "    </tr>\n",
       "    <tr>\n",
       "      <th>3</th>\n",
       "      <td>4</td>\n",
       "      <td>370</td>\n",
       "      <td>3</td>\n",
       "    </tr>\n",
       "    <tr>\n",
       "      <th>4</th>\n",
       "      <td>5</td>\n",
       "      <td>232,312</td>\n",
       "      <td>17</td>\n",
       "    </tr>\n",
       "  </tbody>\n",
       "</table>\n",
       "</div>"
      ],
      "text/plain": [
       "   id      log_report_type  volume\n",
       "0   1           68,179,345       5\n",
       "1   2  233,235,312,313,315       5\n",
       "2   3                  171       2\n",
       "3   4                  370       3\n",
       "4   5              232,312      17"
      ]
     },
     "execution_count": 23,
     "metadata": {},
     "output_type": "execute_result"
    }
   ],
   "source": [
    "log_report_type_data_aggregated_merged.head() "
   ]
  },
  {
   "cell_type": "code",
   "execution_count": 24,
   "metadata": {},
   "outputs": [
    {
     "data": {
      "text/html": [
       "<div>\n",
       "<style scoped>\n",
       "    .dataframe tbody tr th:only-of-type {\n",
       "        vertical-align: middle;\n",
       "    }\n",
       "\n",
       "    .dataframe tbody tr th {\n",
       "        vertical-align: top;\n",
       "    }\n",
       "\n",
       "    .dataframe thead th {\n",
       "        text-align: right;\n",
       "    }\n",
       "</style>\n",
       "<table border=\"1\" class=\"dataframe\">\n",
       "  <thead>\n",
       "    <tr style=\"text-align: right;\">\n",
       "      <th></th>\n",
       "      <th>id</th>\n",
       "      <th>issue_type</th>\n",
       "    </tr>\n",
       "  </thead>\n",
       "  <tbody>\n",
       "    <tr>\n",
       "      <th>10448</th>\n",
       "      <td>1</td>\n",
       "      <td>1</td>\n",
       "    </tr>\n",
       "    <tr>\n",
       "      <th>8351</th>\n",
       "      <td>2</td>\n",
       "      <td>2</td>\n",
       "    </tr>\n",
       "    <tr>\n",
       "      <th>10957</th>\n",
       "      <td>3</td>\n",
       "      <td>1</td>\n",
       "    </tr>\n",
       "    <tr>\n",
       "      <th>11106</th>\n",
       "      <td>4</td>\n",
       "      <td>4</td>\n",
       "    </tr>\n",
       "    <tr>\n",
       "      <th>7736</th>\n",
       "      <td>5</td>\n",
       "      <td>2</td>\n",
       "    </tr>\n",
       "  </tbody>\n",
       "</table>\n",
       "</div>"
      ],
      "text/plain": [
       "       id  issue_type\n",
       "10448   1           1\n",
       "8351    2           2\n",
       "10957   3           1\n",
       "11106   4           4\n",
       "7736    5           2"
      ]
     },
     "execution_count": 24,
     "metadata": {},
     "output_type": "execute_result"
    }
   ],
   "source": [
    "# renaming thr column values, sorting and changing the type to int\n",
    "issue_info_data.issue_type = issue_info_data[\"issue_type\"].str.replace(\"issue_type_\",\"\")\n",
    "issue_info_data.issue_type = issue_info_data.issue_type.astype(\"int\")\n",
    "issue_info_data = issue_info_data.sort_values(by=[\"id\",\"issue_type\"])\n",
    "issue_info_data.head()"
   ]
  },
  {
   "cell_type": "markdown",
   "metadata": {},
   "source": [
    "# Merging The Data"
   ]
  },
  {
   "cell_type": "code",
   "execution_count": 25,
   "metadata": {},
   "outputs": [
    {
     "name": "stdout",
     "output_type": "stream",
     "text": [
      "(18552, 3)\n",
      "18552\n"
     ]
    },
    {
     "data": {
      "text/html": [
       "<div>\n",
       "<style scoped>\n",
       "    .dataframe tbody tr th:only-of-type {\n",
       "        vertical-align: middle;\n",
       "    }\n",
       "\n",
       "    .dataframe tbody tr th {\n",
       "        vertical-align: top;\n",
       "    }\n",
       "\n",
       "    .dataframe thead th {\n",
       "        text-align: right;\n",
       "    }\n",
       "</style>\n",
       "<table border=\"1\" class=\"dataframe\">\n",
       "  <thead>\n",
       "    <tr style=\"text-align: right;\">\n",
       "      <th></th>\n",
       "      <th>id</th>\n",
       "      <th>issue_type</th>\n",
       "      <th>assembly_line_type</th>\n",
       "    </tr>\n",
       "  </thead>\n",
       "  <tbody>\n",
       "    <tr>\n",
       "      <th>0</th>\n",
       "      <td>1</td>\n",
       "      <td>1</td>\n",
       "      <td>6,8</td>\n",
       "    </tr>\n",
       "    <tr>\n",
       "      <th>1</th>\n",
       "      <td>2</td>\n",
       "      <td>2</td>\n",
       "      <td>2</td>\n",
       "    </tr>\n",
       "    <tr>\n",
       "      <th>2</th>\n",
       "      <td>3</td>\n",
       "      <td>1</td>\n",
       "      <td>8</td>\n",
       "    </tr>\n",
       "    <tr>\n",
       "      <th>3</th>\n",
       "      <td>4</td>\n",
       "      <td>4</td>\n",
       "      <td>2</td>\n",
       "    </tr>\n",
       "    <tr>\n",
       "      <th>4</th>\n",
       "      <td>5</td>\n",
       "      <td>2</td>\n",
       "      <td>2</td>\n",
       "    </tr>\n",
       "  </tbody>\n",
       "</table>\n",
       "</div>"
      ],
      "text/plain": [
       "   id  issue_type assembly_line_type\n",
       "0   1           1                6,8\n",
       "1   2           2                  2\n",
       "2   3           1                  8\n",
       "3   4           4                  2\n",
       "4   5           2                  2"
      ]
     },
     "execution_count": 25,
     "metadata": {},
     "output_type": "execute_result"
    }
   ],
   "source": [
    "# Merging issue_info and assembly_line_merged_data based on id\n",
    "df_issue_assembly = pd.merge(issue_info_data, assembly_line_data_merged, on=\"id\", how=\"inner\")\n",
    "print(df_issue_assembly.shape)\n",
    "print(df_issue_assembly.id.nunique())\n",
    "df_issue_assembly.head() "
   ]
  },
  {
   "cell_type": "code",
   "execution_count": 26,
   "metadata": {},
   "outputs": [
    {
     "name": "stdout",
     "output_type": "stream",
     "text": [
      "(18552, 4)\n",
      "18552\n"
     ]
    },
    {
     "data": {
      "text/html": [
       "<div>\n",
       "<style scoped>\n",
       "    .dataframe tbody tr th:only-of-type {\n",
       "        vertical-align: middle;\n",
       "    }\n",
       "\n",
       "    .dataframe tbody tr th {\n",
       "        vertical-align: top;\n",
       "    }\n",
       "\n",
       "    .dataframe thead th {\n",
       "        text-align: right;\n",
       "    }\n",
       "</style>\n",
       "<table border=\"1\" class=\"dataframe\">\n",
       "  <thead>\n",
       "    <tr style=\"text-align: right;\">\n",
       "      <th></th>\n",
       "      <th>id</th>\n",
       "      <th>issue_type</th>\n",
       "      <th>assembly_line_type</th>\n",
       "      <th>car_variant</th>\n",
       "    </tr>\n",
       "  </thead>\n",
       "  <tbody>\n",
       "    <tr>\n",
       "      <th>0</th>\n",
       "      <td>1</td>\n",
       "      <td>1</td>\n",
       "      <td>6,8</td>\n",
       "      <td>11,13</td>\n",
       "    </tr>\n",
       "    <tr>\n",
       "      <th>1</th>\n",
       "      <td>2</td>\n",
       "      <td>2</td>\n",
       "      <td>2</td>\n",
       "      <td>34,35</td>\n",
       "    </tr>\n",
       "    <tr>\n",
       "      <th>2</th>\n",
       "      <td>3</td>\n",
       "      <td>1</td>\n",
       "      <td>8</td>\n",
       "      <td>11</td>\n",
       "    </tr>\n",
       "    <tr>\n",
       "      <th>3</th>\n",
       "      <td>4</td>\n",
       "      <td>4</td>\n",
       "      <td>2</td>\n",
       "      <td>47</td>\n",
       "    </tr>\n",
       "    <tr>\n",
       "      <th>4</th>\n",
       "      <td>5</td>\n",
       "      <td>2</td>\n",
       "      <td>2</td>\n",
       "      <td>34,35</td>\n",
       "    </tr>\n",
       "  </tbody>\n",
       "</table>\n",
       "</div>"
      ],
      "text/plain": [
       "   id  issue_type assembly_line_type car_variant\n",
       "0   1           1                6,8       11,13\n",
       "1   2           2                  2       34,35\n",
       "2   3           1                  8          11\n",
       "3   4           4                  2          47\n",
       "4   5           2                  2       34,35"
      ]
     },
     "execution_count": 26,
     "metadata": {},
     "output_type": "execute_result"
    }
   ],
   "source": [
    "# merging the issue_assembly_data with car_variant_merged_data based on id\n",
    "df_issue_assembly_car = pd.merge(df_issue_assembly, car_variant_data_merged, on=\"id\",how=\"inner\")\n",
    "print(df_issue_assembly_car.shape)\n",
    "print(df_issue_assembly_car.id.nunique())\n",
    "df_issue_assembly_car.head() "
   ]
  },
  {
   "cell_type": "code",
   "execution_count": 27,
   "metadata": {},
   "outputs": [
    {
     "name": "stdout",
     "output_type": "stream",
     "text": [
      "(18552, 6)\n",
      "18552\n"
     ]
    },
    {
     "data": {
      "text/html": [
       "<div>\n",
       "<style scoped>\n",
       "    .dataframe tbody tr th:only-of-type {\n",
       "        vertical-align: middle;\n",
       "    }\n",
       "\n",
       "    .dataframe tbody tr th {\n",
       "        vertical-align: top;\n",
       "    }\n",
       "\n",
       "    .dataframe thead th {\n",
       "        text-align: right;\n",
       "    }\n",
       "</style>\n",
       "<table border=\"1\" class=\"dataframe\">\n",
       "  <thead>\n",
       "    <tr style=\"text-align: right;\">\n",
       "      <th></th>\n",
       "      <th>id</th>\n",
       "      <th>issue_type</th>\n",
       "      <th>assembly_line_type</th>\n",
       "      <th>car_variant</th>\n",
       "      <th>log_report_type</th>\n",
       "      <th>volume</th>\n",
       "    </tr>\n",
       "  </thead>\n",
       "  <tbody>\n",
       "    <tr>\n",
       "      <th>0</th>\n",
       "      <td>1</td>\n",
       "      <td>1</td>\n",
       "      <td>6,8</td>\n",
       "      <td>11,13</td>\n",
       "      <td>68,179,345</td>\n",
       "      <td>5</td>\n",
       "    </tr>\n",
       "    <tr>\n",
       "      <th>1</th>\n",
       "      <td>2</td>\n",
       "      <td>2</td>\n",
       "      <td>2</td>\n",
       "      <td>34,35</td>\n",
       "      <td>233,235,312,313,315</td>\n",
       "      <td>5</td>\n",
       "    </tr>\n",
       "    <tr>\n",
       "      <th>2</th>\n",
       "      <td>3</td>\n",
       "      <td>1</td>\n",
       "      <td>8</td>\n",
       "      <td>11</td>\n",
       "      <td>171</td>\n",
       "      <td>2</td>\n",
       "    </tr>\n",
       "    <tr>\n",
       "      <th>3</th>\n",
       "      <td>4</td>\n",
       "      <td>4</td>\n",
       "      <td>2</td>\n",
       "      <td>47</td>\n",
       "      <td>370</td>\n",
       "      <td>3</td>\n",
       "    </tr>\n",
       "    <tr>\n",
       "      <th>4</th>\n",
       "      <td>5</td>\n",
       "      <td>2</td>\n",
       "      <td>2</td>\n",
       "      <td>34,35</td>\n",
       "      <td>232,312</td>\n",
       "      <td>17</td>\n",
       "    </tr>\n",
       "  </tbody>\n",
       "</table>\n",
       "</div>"
      ],
      "text/plain": [
       "   id  issue_type assembly_line_type car_variant      log_report_type  volume\n",
       "0   1           1                6,8       11,13           68,179,345       5\n",
       "1   2           2                  2       34,35  233,235,312,313,315       5\n",
       "2   3           1                  8          11                  171       2\n",
       "3   4           4                  2          47                  370       3\n",
       "4   5           2                  2       34,35              232,312      17"
      ]
     },
     "execution_count": 27,
     "metadata": {},
     "output_type": "execute_result"
    }
   ],
   "source": [
    "# Merging issue_assembly_car data with log_report_type_data_aggregated_merged data\n",
    "df_issue_assembly_car_log = pd.merge(df_issue_assembly_car, log_report_type_data_aggregated_merged, \n",
    "                                     on=\"id\",\n",
    "                                     how=\"inner\")\n",
    "print(df_issue_assembly_car_log.shape)\n",
    "print(df_issue_assembly_car_log.id.nunique())\n",
    "df_issue_assembly_car_log.head() "
   ]
  },
  {
   "cell_type": "code",
   "execution_count": 28,
   "metadata": {},
   "outputs": [],
   "source": [
    "# Performing Label Encoding\n",
    "encode_columns = [\"assembly_line_type\",\"car_variant\",\"log_report_type\"]\n",
    "for i in range(0,len(df_issue_assembly_car_log.columns)):\n",
    "    j=df_issue_assembly_car_log.columns[i]\n",
    "    if(j in encode_columns):\n",
    "        label_encoder = LabelEncoder()                  # converts the character array to numeric array. Assigns levels to unique labels.\n",
    "        label_encoder.fit(df_issue_assembly_car_log[j])\n",
    "        df_issue_assembly_car_log[j]  = label_encoder.transform(df_issue_assembly_car_log[j])\n",
    "        df_issue_assembly_car_log[j]  = df_issue_assembly_car_log[j].astype('category') "
   ]
  },
  {
   "cell_type": "code",
   "execution_count": 29,
   "metadata": {},
   "outputs": [
    {
     "name": "stdout",
     "output_type": "stream",
     "text": [
      "(5904, 8)\n"
     ]
    },
    {
     "data": {
      "text/html": [
       "<div>\n",
       "<style scoped>\n",
       "    .dataframe tbody tr th:only-of-type {\n",
       "        vertical-align: middle;\n",
       "    }\n",
       "\n",
       "    .dataframe tbody tr th {\n",
       "        vertical-align: top;\n",
       "    }\n",
       "\n",
       "    .dataframe thead th {\n",
       "        text-align: right;\n",
       "    }\n",
       "</style>\n",
       "<table border=\"1\" class=\"dataframe\">\n",
       "  <thead>\n",
       "    <tr style=\"text-align: right;\">\n",
       "      <th></th>\n",
       "      <th>id</th>\n",
       "      <th>factory_number</th>\n",
       "      <th>downtime_duration</th>\n",
       "      <th>issue_type</th>\n",
       "      <th>assembly_line_type</th>\n",
       "      <th>car_variant</th>\n",
       "      <th>log_report_type</th>\n",
       "      <th>volume</th>\n",
       "    </tr>\n",
       "  </thead>\n",
       "  <tbody>\n",
       "    <tr>\n",
       "      <th>0</th>\n",
       "      <td>13366</td>\n",
       "      <td>factory_number_415</td>\n",
       "      <td>1</td>\n",
       "      <td>4</td>\n",
       "      <td>8</td>\n",
       "      <td>245</td>\n",
       "      <td>1073</td>\n",
       "      <td>1</td>\n",
       "    </tr>\n",
       "    <tr>\n",
       "      <th>1</th>\n",
       "      <td>6783</td>\n",
       "      <td>factory_number_474</td>\n",
       "      <td>0</td>\n",
       "      <td>2</td>\n",
       "      <td>8</td>\n",
       "      <td>244</td>\n",
       "      <td>801</td>\n",
       "      <td>9</td>\n",
       "    </tr>\n",
       "    <tr>\n",
       "      <th>2</th>\n",
       "      <td>9519</td>\n",
       "      <td>factory_number_931</td>\n",
       "      <td>1</td>\n",
       "      <td>2</td>\n",
       "      <td>51</td>\n",
       "      <td>161</td>\n",
       "      <td>2151</td>\n",
       "      <td>11</td>\n",
       "    </tr>\n",
       "    <tr>\n",
       "      <th>3</th>\n",
       "      <td>10202</td>\n",
       "      <td>factory_number_700</td>\n",
       "      <td>1</td>\n",
       "      <td>1</td>\n",
       "      <td>51</td>\n",
       "      <td>32</td>\n",
       "      <td>1393</td>\n",
       "      <td>1</td>\n",
       "    </tr>\n",
       "    <tr>\n",
       "      <th>4</th>\n",
       "      <td>4555</td>\n",
       "      <td>factory_number_600</td>\n",
       "      <td>2</td>\n",
       "      <td>2</td>\n",
       "      <td>51</td>\n",
       "      <td>161</td>\n",
       "      <td>2175</td>\n",
       "      <td>44</td>\n",
       "    </tr>\n",
       "  </tbody>\n",
       "</table>\n",
       "</div>"
      ],
      "text/plain": [
       "      id      factory_number  downtime_duration  issue_type  \\\n",
       "0  13366  factory_number_415                  1           4   \n",
       "1   6783  factory_number_474                  0           2   \n",
       "2   9519  factory_number_931                  1           2   \n",
       "3  10202  factory_number_700                  1           1   \n",
       "4   4555  factory_number_600                  2           2   \n",
       "\n",
       "  assembly_line_type car_variant log_report_type  volume  \n",
       "0                  8         245            1073       1  \n",
       "1                  8         244             801       9  \n",
       "2                 51         161            2151      11  \n",
       "3                 51          32            1393       1  \n",
       "4                 51         161            2175      44  "
      ]
     },
     "execution_count": 29,
     "metadata": {},
     "output_type": "execute_result"
    }
   ],
   "source": [
    "# Creating the Train Data_set\n",
    "df_train = pd.merge(train_data, df_issue_assembly_car_log, on=\"id\",how=\"inner\")\n",
    "print(df_train.shape)\n",
    "df_train.head() "
   ]
  },
  {
   "cell_type": "code",
   "execution_count": 30,
   "metadata": {},
   "outputs": [
    {
     "name": "stdout",
     "output_type": "stream",
     "text": [
      "(1477, 7)\n"
     ]
    },
    {
     "data": {
      "text/html": [
       "<div>\n",
       "<style scoped>\n",
       "    .dataframe tbody tr th:only-of-type {\n",
       "        vertical-align: middle;\n",
       "    }\n",
       "\n",
       "    .dataframe tbody tr th {\n",
       "        vertical-align: top;\n",
       "    }\n",
       "\n",
       "    .dataframe thead th {\n",
       "        text-align: right;\n",
       "    }\n",
       "</style>\n",
       "<table border=\"1\" class=\"dataframe\">\n",
       "  <thead>\n",
       "    <tr style=\"text-align: right;\">\n",
       "      <th></th>\n",
       "      <th>id</th>\n",
       "      <th>factory_number</th>\n",
       "      <th>issue_type</th>\n",
       "      <th>assembly_line_type</th>\n",
       "      <th>car_variant</th>\n",
       "      <th>log_report_type</th>\n",
       "      <th>volume</th>\n",
       "    </tr>\n",
       "  </thead>\n",
       "  <tbody>\n",
       "    <tr>\n",
       "      <th>0</th>\n",
       "      <td>3340</td>\n",
       "      <td>factory_number_344</td>\n",
       "      <td>4</td>\n",
       "      <td>8</td>\n",
       "      <td>245</td>\n",
       "      <td>1073</td>\n",
       "      <td>2</td>\n",
       "    </tr>\n",
       "    <tr>\n",
       "      <th>1</th>\n",
       "      <td>14067</td>\n",
       "      <td>factory_number_933</td>\n",
       "      <td>1</td>\n",
       "      <td>8</td>\n",
       "      <td>180</td>\n",
       "      <td>71</td>\n",
       "      <td>1</td>\n",
       "    </tr>\n",
       "    <tr>\n",
       "      <th>2</th>\n",
       "      <td>1134</td>\n",
       "      <td>factory_number_16</td>\n",
       "      <td>1</td>\n",
       "      <td>51</td>\n",
       "      <td>32</td>\n",
       "      <td>254</td>\n",
       "      <td>16</td>\n",
       "    </tr>\n",
       "    <tr>\n",
       "      <th>3</th>\n",
       "      <td>27</td>\n",
       "      <td>factory_number_793</td>\n",
       "      <td>1</td>\n",
       "      <td>51</td>\n",
       "      <td>32</td>\n",
       "      <td>2035</td>\n",
       "      <td>5</td>\n",
       "    </tr>\n",
       "    <tr>\n",
       "      <th>4</th>\n",
       "      <td>9793</td>\n",
       "      <td>factory_number_344</td>\n",
       "      <td>2</td>\n",
       "      <td>8</td>\n",
       "      <td>244</td>\n",
       "      <td>849</td>\n",
       "      <td>24</td>\n",
       "    </tr>\n",
       "  </tbody>\n",
       "</table>\n",
       "</div>"
      ],
      "text/plain": [
       "      id      factory_number  issue_type assembly_line_type car_variant  \\\n",
       "0   3340  factory_number_344           4                  8         245   \n",
       "1  14067  factory_number_933           1                  8         180   \n",
       "2   1134   factory_number_16           1                 51          32   \n",
       "3     27  factory_number_793           1                 51          32   \n",
       "4   9793  factory_number_344           2                  8         244   \n",
       "\n",
       "  log_report_type  volume  \n",
       "0            1073       2  \n",
       "1              71       1  \n",
       "2             254      16  \n",
       "3            2035       5  \n",
       "4             849      24  "
      ]
     },
     "execution_count": 30,
     "metadata": {},
     "output_type": "execute_result"
    }
   ],
   "source": [
    "# Creating the Test Data set\n",
    "df_test = pd.merge(test_data, df_issue_assembly_car_log,on=\"id\",how=\"inner\")\n",
    "print(df_test.shape) \n",
    "df_test.head() "
   ]
  },
  {
   "cell_type": "code",
   "execution_count": 31,
   "metadata": {},
   "outputs": [
    {
     "name": "stdout",
     "output_type": "stream",
     "text": [
      "1108\n",
      "43\n",
      "197\n"
     ]
    }
   ],
   "source": [
    "# Printing the nunique values\n",
    "print(df_train.log_report_type.nunique())\n",
    "print(df_train.assembly_line_type.nunique())\n",
    "print(df_train.car_variant.nunique())\n"
   ]
  },
  {
   "cell_type": "code",
   "execution_count": 32,
   "metadata": {},
   "outputs": [
    {
     "name": "stdout",
     "output_type": "stream",
     "text": [
      "447\n",
      "33\n",
      "103\n"
     ]
    }
   ],
   "source": [
    "# Printing the nunique values\n",
    "print(df_test.log_report_type.nunique())\n",
    "print(df_test.assembly_line_type.nunique())\n",
    "print(df_test.car_variant.nunique())"
   ]
  },
  {
   "cell_type": "code",
   "execution_count": 33,
   "metadata": {},
   "outputs": [],
   "source": [
    "# Type casting the column back to int type\n",
    "for col in encode_columns:\n",
    "    df_train[col]= df_train[col].astype(\"int\")\n",
    "    df_test[col] = df_test[col].astype(\"int\")"
   ]
  },
  {
   "cell_type": "code",
   "execution_count": 34,
   "metadata": {},
   "outputs": [
    {
     "data": {
      "text/plain": [
       "id                     int64\n",
       "factory_number        object\n",
       "downtime_duration      int64\n",
       "issue_type             int32\n",
       "assembly_line_type     int32\n",
       "car_variant            int32\n",
       "log_report_type        int32\n",
       "volume                 int64\n",
       "dtype: object"
      ]
     },
     "execution_count": 34,
     "metadata": {},
     "output_type": "execute_result"
    }
   ],
   "source": [
    "df_train.dtypes"
   ]
  },
  {
   "cell_type": "code",
   "execution_count": 35,
   "metadata": {},
   "outputs": [
    {
     "data": {
      "text/plain": [
       "id                     int64\n",
       "factory_number        object\n",
       "issue_type             int32\n",
       "assembly_line_type     int32\n",
       "car_variant            int32\n",
       "log_report_type        int32\n",
       "volume                 int64\n",
       "dtype: object"
      ]
     },
     "execution_count": 35,
     "metadata": {},
     "output_type": "execute_result"
    }
   ],
   "source": [
    "df_test.dtypes"
   ]
  },
  {
   "cell_type": "code",
   "execution_count": 36,
   "metadata": {},
   "outputs": [],
   "source": [
    "# renaming thr column values, sorting and changing the type to int both on train and test data\n",
    "df_train.factory_number = df_train[\"factory_number\"].str.replace(\"factory_number_\",\"\")\n",
    "df_train.factory_number = df_train.factory_number.astype(\"int\")\n",
    "df_test.factory_number = df_test[\"factory_number\"].str.replace(\"factory_number_\",\"\")\n",
    "df_test.factory_number = df_test.factory_number.astype(\"int\")"
   ]
  },
  {
   "cell_type": "code",
   "execution_count": 37,
   "metadata": {},
   "outputs": [],
   "source": [
    "# chamging the data type of target variable to category\n",
    "df_train.downtime_duration = df_train.downtime_duration.astype(\"category\")"
   ]
  },
  {
   "cell_type": "code",
   "execution_count": 38,
   "metadata": {},
   "outputs": [
    {
     "data": {
      "text/plain": [
       "id                       int64\n",
       "factory_number           int32\n",
       "downtime_duration     category\n",
       "issue_type               int32\n",
       "assembly_line_type       int32\n",
       "car_variant              int32\n",
       "log_report_type          int32\n",
       "volume                   int64\n",
       "dtype: object"
      ]
     },
     "execution_count": 38,
     "metadata": {},
     "output_type": "execute_result"
    }
   ],
   "source": [
    "df_train.dtypes"
   ]
  },
  {
   "cell_type": "code",
   "execution_count": 39,
   "metadata": {},
   "outputs": [
    {
     "data": {
      "text/plain": [
       "id                    int64\n",
       "factory_number        int32\n",
       "issue_type            int32\n",
       "assembly_line_type    int32\n",
       "car_variant           int32\n",
       "log_report_type       int32\n",
       "volume                int64\n",
       "dtype: object"
      ]
     },
     "execution_count": 39,
     "metadata": {},
     "output_type": "execute_result"
    }
   ],
   "source": [
    "df_test.dtypes"
   ]
  },
  {
   "cell_type": "code",
   "execution_count": 40,
   "metadata": {},
   "outputs": [],
   "source": [
    "# Creating x_train\n",
    "x_train = df_train.drop(\"downtime_duration\",axis=1)"
   ]
  },
  {
   "cell_type": "code",
   "execution_count": 41,
   "metadata": {},
   "outputs": [],
   "source": [
    "# Creating y_train\n",
    "y_train = df_train.downtime_duration"
   ]
  },
  {
   "cell_type": "code",
   "execution_count": 42,
   "metadata": {},
   "outputs": [
    {
     "data": {
      "text/plain": [
       "GridSearchCV(cv=10, error_score=nan,\n",
       "             estimator=DecisionTreeClassifier(ccp_alpha=0.0,\n",
       "                                              class_weight='balanced',\n",
       "                                              criterion='gini', max_depth=None,\n",
       "                                              max_features=None,\n",
       "                                              max_leaf_nodes=None,\n",
       "                                              min_impurity_decrease=0.0,\n",
       "                                              min_impurity_split=None,\n",
       "                                              min_samples_leaf=1,\n",
       "                                              min_samples_split=2,\n",
       "                                              min_weight_fraction_leaf=0.0,\n",
       "                                              presort='deprecated',\n",
       "                                              random_state=1234,\n",
       "                                              splitter='best'),\n",
       "             iid='deprecated', n_jobs=-1,\n",
       "             param_grid={'criterion': ['gini', 'entropy'], 'max_depth': [2, 3],\n",
       "                         'min_samples_leaf': [5, 6],\n",
       "                         'min_samples_split': [1, 2, 5, 10]},\n",
       "             pre_dispatch='2*n_jobs', refit=True, return_train_score=False,\n",
       "             scoring=None, verbose=0)"
      ]
     },
     "execution_count": 42,
     "metadata": {},
     "output_type": "execute_result"
    }
   ],
   "source": [
    "# Building Decison Tree Classifier with CV\n",
    "paramgrid = {\"criterion\": [\"gini\", \"entropy\"], \n",
    "               \"max_depth\": list(range(2,4,1)), \n",
    "              \"min_samples_leaf\": list(range(5,7,1)),\n",
    "             \"min_samples_split\": [1,2,5,10]}\n",
    "dt_gridsearch = GridSearchCV(DecisionTreeClassifier(class_weight=\"balanced\", random_state=1234),\n",
    "                             param_grid=paramgrid,n_jobs=-1,cv=10)\n",
    "dt_gridsearch.fit(x_train,y_train)"
   ]
  },
  {
   "cell_type": "code",
   "execution_count": 43,
   "metadata": {},
   "outputs": [],
   "source": [
    "y_train_predict_dt_cv = dt_gridsearch.best_estimator_.predict(x_train)\n",
    "y_test_predict_dt_cv = dt_gridsearch.best_estimator_.predict(df_test)"
   ]
  },
  {
   "cell_type": "code",
   "execution_count": 44,
   "metadata": {},
   "outputs": [],
   "source": [
    "def classifcation_report_train_test(y_train, y_train_pred):\n",
    "\n",
    "    print('''\n",
    "            =========================================\n",
    "               CLASSIFICATION REPORT FOR TRAIN DATA\n",
    "            =========================================\n",
    "            ''')\n",
    "    print(classification_report(y_train, y_train_pred))"
   ]
  },
  {
   "cell_type": "code",
   "execution_count": 45,
   "metadata": {},
   "outputs": [
    {
     "name": "stdout",
     "output_type": "stream",
     "text": [
      "\n",
      "            =========================================\n",
      "               CLASSIFICATION REPORT FOR TRAIN DATA\n",
      "            =========================================\n",
      "            \n",
      "              precision    recall  f1-score   support\n",
      "\n",
      "           0       0.84      0.53      0.65      3827\n",
      "           1       0.37      0.51      0.43      1496\n",
      "           2       0.34      0.85      0.49       581\n",
      "\n",
      "    accuracy                           0.56      5904\n",
      "   macro avg       0.52      0.63      0.52      5904\n",
      "weighted avg       0.67      0.56      0.58      5904\n",
      "\n"
     ]
    }
   ],
   "source": [
    "classifcation_report_train_test(y_train,y_train_predict_dt_cv)"
   ]
  },
  {
   "cell_type": "code",
   "execution_count": 46,
   "metadata": {},
   "outputs": [
    {
     "data": {
      "text/html": [
       "<div>\n",
       "<style scoped>\n",
       "    .dataframe tbody tr th:only-of-type {\n",
       "        vertical-align: middle;\n",
       "    }\n",
       "\n",
       "    .dataframe tbody tr th {\n",
       "        vertical-align: top;\n",
       "    }\n",
       "\n",
       "    .dataframe thead th {\n",
       "        text-align: right;\n",
       "    }\n",
       "</style>\n",
       "<table border=\"1\" class=\"dataframe\">\n",
       "  <thead>\n",
       "    <tr style=\"text-align: right;\">\n",
       "      <th></th>\n",
       "      <th>id</th>\n",
       "      <th>factory_number</th>\n",
       "      <th>issue_type</th>\n",
       "      <th>assembly_line_type</th>\n",
       "      <th>car_variant</th>\n",
       "      <th>log_report_type</th>\n",
       "      <th>volume</th>\n",
       "      <th>downtime_duration</th>\n",
       "    </tr>\n",
       "  </thead>\n",
       "  <tbody>\n",
       "    <tr>\n",
       "      <th>0</th>\n",
       "      <td>3340</td>\n",
       "      <td>344</td>\n",
       "      <td>4</td>\n",
       "      <td>8</td>\n",
       "      <td>245</td>\n",
       "      <td>1073</td>\n",
       "      <td>2</td>\n",
       "      <td>0</td>\n",
       "    </tr>\n",
       "    <tr>\n",
       "      <th>1</th>\n",
       "      <td>14067</td>\n",
       "      <td>933</td>\n",
       "      <td>1</td>\n",
       "      <td>8</td>\n",
       "      <td>180</td>\n",
       "      <td>71</td>\n",
       "      <td>1</td>\n",
       "      <td>0</td>\n",
       "    </tr>\n",
       "    <tr>\n",
       "      <th>2</th>\n",
       "      <td>1134</td>\n",
       "      <td>16</td>\n",
       "      <td>1</td>\n",
       "      <td>51</td>\n",
       "      <td>32</td>\n",
       "      <td>254</td>\n",
       "      <td>16</td>\n",
       "      <td>1</td>\n",
       "    </tr>\n",
       "    <tr>\n",
       "      <th>3</th>\n",
       "      <td>27</td>\n",
       "      <td>793</td>\n",
       "      <td>1</td>\n",
       "      <td>51</td>\n",
       "      <td>32</td>\n",
       "      <td>2035</td>\n",
       "      <td>5</td>\n",
       "      <td>1</td>\n",
       "    </tr>\n",
       "    <tr>\n",
       "      <th>4</th>\n",
       "      <td>9793</td>\n",
       "      <td>344</td>\n",
       "      <td>2</td>\n",
       "      <td>8</td>\n",
       "      <td>244</td>\n",
       "      <td>849</td>\n",
       "      <td>24</td>\n",
       "      <td>0</td>\n",
       "    </tr>\n",
       "  </tbody>\n",
       "</table>\n",
       "</div>"
      ],
      "text/plain": [
       "      id  factory_number  issue_type  assembly_line_type  car_variant  \\\n",
       "0   3340             344           4                   8          245   \n",
       "1  14067             933           1                   8          180   \n",
       "2   1134              16           1                  51           32   \n",
       "3     27             793           1                  51           32   \n",
       "4   9793             344           2                   8          244   \n",
       "\n",
       "   log_report_type  volume  downtime_duration  \n",
       "0             1073       2                  0  \n",
       "1               71       1                  0  \n",
       "2              254      16                  1  \n",
       "3             2035       5                  1  \n",
       "4              849      24                  0  "
      ]
     },
     "execution_count": 46,
     "metadata": {},
     "output_type": "execute_result"
    }
   ],
   "source": [
    "df_test_dt_cv = df_test.copy()\n",
    "df_test_dt_cv[\"downtime_duration\"] = y_test_predict_dt_cv\n",
    "df_test_dt_cv.head() "
   ]
  },
  {
   "cell_type": "code",
   "execution_count": 47,
   "metadata": {},
   "outputs": [],
   "source": [
    "df_test_dt_cv.drop([\"factory_number\", \"issue_type\", \"assembly_line_type\", \"car_variant\",\n",
    "                   \"log_report_type\", \"volume\"], axis=1, inplace = True)"
   ]
  },
  {
   "cell_type": "code",
   "execution_count": 48,
   "metadata": {},
   "outputs": [
    {
     "data": {
      "text/html": [
       "<div>\n",
       "<style scoped>\n",
       "    .dataframe tbody tr th:only-of-type {\n",
       "        vertical-align: middle;\n",
       "    }\n",
       "\n",
       "    .dataframe tbody tr th {\n",
       "        vertical-align: top;\n",
       "    }\n",
       "\n",
       "    .dataframe thead th {\n",
       "        text-align: right;\n",
       "    }\n",
       "</style>\n",
       "<table border=\"1\" class=\"dataframe\">\n",
       "  <thead>\n",
       "    <tr style=\"text-align: right;\">\n",
       "      <th></th>\n",
       "      <th>id</th>\n",
       "      <th>downtime_duration</th>\n",
       "    </tr>\n",
       "  </thead>\n",
       "  <tbody>\n",
       "    <tr>\n",
       "      <th>0</th>\n",
       "      <td>3340</td>\n",
       "      <td>0</td>\n",
       "    </tr>\n",
       "    <tr>\n",
       "      <th>1</th>\n",
       "      <td>14067</td>\n",
       "      <td>0</td>\n",
       "    </tr>\n",
       "    <tr>\n",
       "      <th>2</th>\n",
       "      <td>1134</td>\n",
       "      <td>1</td>\n",
       "    </tr>\n",
       "    <tr>\n",
       "      <th>3</th>\n",
       "      <td>27</td>\n",
       "      <td>1</td>\n",
       "    </tr>\n",
       "    <tr>\n",
       "      <th>4</th>\n",
       "      <td>9793</td>\n",
       "      <td>0</td>\n",
       "    </tr>\n",
       "  </tbody>\n",
       "</table>\n",
       "</div>"
      ],
      "text/plain": [
       "      id  downtime_duration\n",
       "0   3340                  0\n",
       "1  14067                  0\n",
       "2   1134                  1\n",
       "3     27                  1\n",
       "4   9793                  0"
      ]
     },
     "execution_count": 48,
     "metadata": {},
     "output_type": "execute_result"
    }
   ],
   "source": [
    "df_test_dt_cv.head() "
   ]
  },
  {
   "cell_type": "code",
   "execution_count": 49,
   "metadata": {},
   "outputs": [],
   "source": [
    "# Creating the csv file\n",
    "df_test_dt_cv.to_csv(\"df_test_dt_cv.csv\", sep=',',index=False)"
   ]
  },
  {
   "cell_type": "code",
   "execution_count": 50,
   "metadata": {},
   "outputs": [
    {
     "data": {
      "text/plain": [
       "GridSearchCV(cv=10, error_score=nan,\n",
       "             estimator=RandomForestClassifier(bootstrap=True, ccp_alpha=0.0,\n",
       "                                              class_weight=None,\n",
       "                                              criterion='gini', max_depth=None,\n",
       "                                              max_features='auto',\n",
       "                                              max_leaf_nodes=None,\n",
       "                                              max_samples=None,\n",
       "                                              min_impurity_decrease=0.0,\n",
       "                                              min_impurity_split=None,\n",
       "                                              min_samples_leaf=1,\n",
       "                                              min_samples_split=2,\n",
       "                                              min_weight_fraction_leaf=0.0,\n",
       "                                              n_estimators=100, n_jobs=-1,\n",
       "                                              oob_score=False, random_state=1,\n",
       "                                              verbose=0, warm_start=False),\n",
       "             iid='deprecated', n_jobs=None,\n",
       "             param_grid={'class_weight': ['balanced', 'balanced_subsample'],\n",
       "                         'max_depth': [2, 3, 4, 5], 'max_features': [3, 5, 7],\n",
       "                         'min_samples_leaf': [2, 3, 4, 5],\n",
       "                         'n_estimators': [25, 50, 75]},\n",
       "             pre_dispatch='2*n_jobs', refit=True, return_train_score=False,\n",
       "             scoring=None, verbose=0)"
      ]
     },
     "execution_count": 50,
     "metadata": {},
     "output_type": "execute_result"
    }
   ],
   "source": [
    "# Building a Random Forest\n",
    "param_grid = {\"n_estimators\" : [25,50,75],\n",
    "           \"max_depth\" : [2,3,4,5],\n",
    "           \"min_samples_leaf\" : [2,3,4,5],'max_features':[3,5,7],\n",
    "           \"class_weight\" : ['balanced','balanced_subsample']}\n",
    "rf_grid = GridSearchCV(RandomForestClassifier(n_jobs=-1,random_state=1),param_grid=param_grid,\n",
    "                      cv= 10)\n",
    "rf_grid.fit(x_train,y_train)"
   ]
  },
  {
   "cell_type": "code",
   "execution_count": 51,
   "metadata": {},
   "outputs": [],
   "source": [
    "y_train_predict_rf_cv = rf_grid.best_estimator_.predict(x_train)\n",
    "y_test_predict_rf_cv = rf_grid.best_estimator_.predict(df_test)"
   ]
  },
  {
   "cell_type": "code",
   "execution_count": 52,
   "metadata": {},
   "outputs": [
    {
     "name": "stdout",
     "output_type": "stream",
     "text": [
      "\n",
      "            =========================================\n",
      "               CLASSIFICATION REPORT FOR TRAIN DATA\n",
      "            =========================================\n",
      "            \n",
      "              precision    recall  f1-score   support\n",
      "\n",
      "           0       0.91      0.65      0.76      3827\n",
      "           1       0.50      0.61      0.55      1496\n",
      "           2       0.38      0.87      0.53       581\n",
      "\n",
      "    accuracy                           0.66      5904\n",
      "   macro avg       0.60      0.71      0.61      5904\n",
      "weighted avg       0.75      0.66      0.68      5904\n",
      "\n"
     ]
    }
   ],
   "source": [
    "classifcation_report_train_test(y_train, y_train_predict_rf_cv)"
   ]
  },
  {
   "cell_type": "code",
   "execution_count": 53,
   "metadata": {},
   "outputs": [],
   "source": [
    "df_test_rf_cv = df_test.copy()\n",
    "df_test_rf_cv[\"downtime_duration\"] = y_test_predict_rf_cv"
   ]
  },
  {
   "cell_type": "code",
   "execution_count": 54,
   "metadata": {},
   "outputs": [
    {
     "data": {
      "text/html": [
       "<div>\n",
       "<style scoped>\n",
       "    .dataframe tbody tr th:only-of-type {\n",
       "        vertical-align: middle;\n",
       "    }\n",
       "\n",
       "    .dataframe tbody tr th {\n",
       "        vertical-align: top;\n",
       "    }\n",
       "\n",
       "    .dataframe thead th {\n",
       "        text-align: right;\n",
       "    }\n",
       "</style>\n",
       "<table border=\"1\" class=\"dataframe\">\n",
       "  <thead>\n",
       "    <tr style=\"text-align: right;\">\n",
       "      <th></th>\n",
       "      <th>id</th>\n",
       "      <th>downtime_duration</th>\n",
       "    </tr>\n",
       "  </thead>\n",
       "  <tbody>\n",
       "    <tr>\n",
       "      <th>0</th>\n",
       "      <td>3340</td>\n",
       "      <td>0</td>\n",
       "    </tr>\n",
       "    <tr>\n",
       "      <th>1</th>\n",
       "      <td>14067</td>\n",
       "      <td>0</td>\n",
       "    </tr>\n",
       "    <tr>\n",
       "      <th>2</th>\n",
       "      <td>1134</td>\n",
       "      <td>2</td>\n",
       "    </tr>\n",
       "    <tr>\n",
       "      <th>3</th>\n",
       "      <td>27</td>\n",
       "      <td>0</td>\n",
       "    </tr>\n",
       "    <tr>\n",
       "      <th>4</th>\n",
       "      <td>9793</td>\n",
       "      <td>0</td>\n",
       "    </tr>\n",
       "  </tbody>\n",
       "</table>\n",
       "</div>"
      ],
      "text/plain": [
       "      id  downtime_duration\n",
       "0   3340                  0\n",
       "1  14067                  0\n",
       "2   1134                  2\n",
       "3     27                  0\n",
       "4   9793                  0"
      ]
     },
     "execution_count": 54,
     "metadata": {},
     "output_type": "execute_result"
    }
   ],
   "source": [
    "df_test_rf_cv.drop([\"factory_number\", \"issue_type\", \"assembly_line_type\", \"car_variant\",\n",
    "                   \"log_report_type\", \"volume\"], axis=1, inplace = True)\n",
    "df_test_rf_cv.head() "
   ]
  },
  {
   "cell_type": "code",
   "execution_count": 55,
   "metadata": {},
   "outputs": [],
   "source": [
    "# Creating the csv file\n",
    "df_test_rf_cv.to_csv(\"df_test_rf_cv.csv\",sep=\",\", index=False)"
   ]
  },
  {
   "cell_type": "code",
   "execution_count": null,
   "metadata": {},
   "outputs": [
    {
     "name": "stdout",
     "output_type": "stream",
     "text": [
      "Fitting 5 folds for each of 10368 candidates, totalling 51840 fits\n"
     ]
    },
    {
     "name": "stderr",
     "output_type": "stream",
     "text": [
      "[Parallel(n_jobs=-1)]: Using backend LokyBackend with 8 concurrent workers.\n",
      "[Parallel(n_jobs=-1)]: Done   2 tasks      | elapsed:    1.0s\n",
      "[Parallel(n_jobs=-1)]: Done   9 tasks      | elapsed:    1.2s\n",
      "[Parallel(n_jobs=-1)]: Done  16 tasks      | elapsed:    1.3s\n",
      "[Parallel(n_jobs=-1)]: Done  25 tasks      | elapsed:    1.8s\n",
      "[Parallel(n_jobs=-1)]: Done  34 tasks      | elapsed:    2.1s\n",
      "[Parallel(n_jobs=-1)]: Done  45 tasks      | elapsed:    2.5s\n",
      "[Parallel(n_jobs=-1)]: Done  56 tasks      | elapsed:    2.9s\n",
      "[Parallel(n_jobs=-1)]: Done  69 tasks      | elapsed:    3.4s\n",
      "[Parallel(n_jobs=-1)]: Done  82 tasks      | elapsed:    3.9s\n",
      "[Parallel(n_jobs=-1)]: Done  97 tasks      | elapsed:    4.5s\n",
      "[Parallel(n_jobs=-1)]: Done 112 tasks      | elapsed:    5.1s\n",
      "[Parallel(n_jobs=-1)]: Done 129 tasks      | elapsed:    5.8s\n",
      "[Parallel(n_jobs=-1)]: Done 146 tasks      | elapsed:    6.6s\n",
      "[Parallel(n_jobs=-1)]: Done 165 tasks      | elapsed:    7.4s\n",
      "[Parallel(n_jobs=-1)]: Done 184 tasks      | elapsed:    8.3s\n",
      "[Parallel(n_jobs=-1)]: Done 205 tasks      | elapsed:    9.4s\n",
      "[Parallel(n_jobs=-1)]: Done 226 tasks      | elapsed:   10.4s\n",
      "[Parallel(n_jobs=-1)]: Done 249 tasks      | elapsed:   11.5s\n",
      "[Parallel(n_jobs=-1)]: Done 272 tasks      | elapsed:   12.8s\n",
      "[Parallel(n_jobs=-1)]: Done 297 tasks      | elapsed:   14.1s\n",
      "[Parallel(n_jobs=-1)]: Done 322 tasks      | elapsed:   15.6s\n",
      "[Parallel(n_jobs=-1)]: Done 349 tasks      | elapsed:   17.1s\n",
      "[Parallel(n_jobs=-1)]: Done 376 tasks      | elapsed:   18.7s\n",
      "[Parallel(n_jobs=-1)]: Done 405 tasks      | elapsed:   20.8s\n",
      "[Parallel(n_jobs=-1)]: Done 434 tasks      | elapsed:   22.8s\n",
      "[Parallel(n_jobs=-1)]: Done 465 tasks      | elapsed:   24.9s\n",
      "[Parallel(n_jobs=-1)]: Done 496 tasks      | elapsed:   27.2s\n",
      "[Parallel(n_jobs=-1)]: Done 529 tasks      | elapsed:   29.7s\n",
      "[Parallel(n_jobs=-1)]: Done 562 tasks      | elapsed:   32.6s\n",
      "[Parallel(n_jobs=-1)]: Done 597 tasks      | elapsed:   35.9s\n",
      "[Parallel(n_jobs=-1)]: Done 632 tasks      | elapsed:   39.1s\n",
      "[Parallel(n_jobs=-1)]: Done 669 tasks      | elapsed:   42.5s\n",
      "[Parallel(n_jobs=-1)]: Done 706 tasks      | elapsed:   45.6s\n",
      "[Parallel(n_jobs=-1)]: Done 745 tasks      | elapsed:   49.0s\n",
      "[Parallel(n_jobs=-1)]: Done 784 tasks      | elapsed:   52.2s\n",
      "[Parallel(n_jobs=-1)]: Done 825 tasks      | elapsed:   55.7s\n",
      "[Parallel(n_jobs=-1)]: Done 866 tasks      | elapsed:   59.5s\n",
      "[Parallel(n_jobs=-1)]: Done 909 tasks      | elapsed:  1.1min\n",
      "[Parallel(n_jobs=-1)]: Done 952 tasks      | elapsed:  1.2min\n",
      "[Parallel(n_jobs=-1)]: Done 997 tasks      | elapsed:  1.2min\n",
      "[Parallel(n_jobs=-1)]: Done 1042 tasks      | elapsed:  1.3min\n",
      "[Parallel(n_jobs=-1)]: Done 1089 tasks      | elapsed:  1.4min\n",
      "[Parallel(n_jobs=-1)]: Done 1136 tasks      | elapsed:  1.5min\n",
      "[Parallel(n_jobs=-1)]: Done 1185 tasks      | elapsed:  1.5min\n",
      "[Parallel(n_jobs=-1)]: Done 1234 tasks      | elapsed:  1.5min\n",
      "[Parallel(n_jobs=-1)]: Done 1285 tasks      | elapsed:  1.6min\n",
      "[Parallel(n_jobs=-1)]: Done 1336 tasks      | elapsed:  1.6min\n",
      "[Parallel(n_jobs=-1)]: Done 1389 tasks      | elapsed:  1.7min\n",
      "[Parallel(n_jobs=-1)]: Done 1442 tasks      | elapsed:  1.7min\n",
      "[Parallel(n_jobs=-1)]: Done 1497 tasks      | elapsed:  1.8min\n",
      "[Parallel(n_jobs=-1)]: Done 1552 tasks      | elapsed:  1.8min\n",
      "[Parallel(n_jobs=-1)]: Done 1609 tasks      | elapsed:  1.9min\n",
      "[Parallel(n_jobs=-1)]: Done 1666 tasks      | elapsed:  2.0min\n",
      "[Parallel(n_jobs=-1)]: Done 1725 tasks      | elapsed:  2.1min\n",
      "[Parallel(n_jobs=-1)]: Done 1784 tasks      | elapsed:  2.2min\n",
      "[Parallel(n_jobs=-1)]: Done 1845 tasks      | elapsed:  2.3min\n",
      "[Parallel(n_jobs=-1)]: Done 1906 tasks      | elapsed:  2.4min\n",
      "[Parallel(n_jobs=-1)]: Done 1969 tasks      | elapsed:  2.6min\n",
      "[Parallel(n_jobs=-1)]: Done 2032 tasks      | elapsed:  2.7min\n",
      "[Parallel(n_jobs=-1)]: Done 2097 tasks      | elapsed:  2.9min\n",
      "[Parallel(n_jobs=-1)]: Done 2162 tasks      | elapsed:  3.1min\n",
      "[Parallel(n_jobs=-1)]: Done 2229 tasks      | elapsed:  3.1min\n",
      "[Parallel(n_jobs=-1)]: Done 2296 tasks      | elapsed:  3.2min\n",
      "[Parallel(n_jobs=-1)]: Done 2365 tasks      | elapsed:  3.2min\n",
      "[Parallel(n_jobs=-1)]: Done 2434 tasks      | elapsed:  3.3min\n",
      "[Parallel(n_jobs=-1)]: Done 2505 tasks      | elapsed:  3.3min\n",
      "[Parallel(n_jobs=-1)]: Done 2576 tasks      | elapsed:  3.4min\n",
      "[Parallel(n_jobs=-1)]: Done 2649 tasks      | elapsed:  3.5min\n",
      "[Parallel(n_jobs=-1)]: Done 2722 tasks      | elapsed:  3.6min\n",
      "[Parallel(n_jobs=-1)]: Done 2797 tasks      | elapsed:  3.7min\n",
      "[Parallel(n_jobs=-1)]: Done 2872 tasks      | elapsed:  3.9min\n",
      "[Parallel(n_jobs=-1)]: Done 2949 tasks      | elapsed:  4.0min\n",
      "[Parallel(n_jobs=-1)]: Done 3026 tasks      | elapsed:  4.1min\n",
      "[Parallel(n_jobs=-1)]: Done 3105 tasks      | elapsed:  4.3min\n",
      "[Parallel(n_jobs=-1)]: Done 3184 tasks      | elapsed:  4.5min\n",
      "[Parallel(n_jobs=-1)]: Done 3265 tasks      | elapsed:  4.6min\n",
      "[Parallel(n_jobs=-1)]: Done 3346 tasks      | elapsed:  4.7min\n",
      "[Parallel(n_jobs=-1)]: Done 3429 tasks      | elapsed:  4.8min\n",
      "[Parallel(n_jobs=-1)]: Done 3512 tasks      | elapsed:  4.8min\n",
      "[Parallel(n_jobs=-1)]: Done 3597 tasks      | elapsed:  4.9min\n",
      "[Parallel(n_jobs=-1)]: Done 3682 tasks      | elapsed:  5.0min\n",
      "[Parallel(n_jobs=-1)]: Done 3769 tasks      | elapsed:  5.2min\n",
      "[Parallel(n_jobs=-1)]: Done 3856 tasks      | elapsed:  5.3min\n",
      "[Parallel(n_jobs=-1)]: Done 3945 tasks      | elapsed:  5.5min\n",
      "[Parallel(n_jobs=-1)]: Done 4034 tasks      | elapsed:  5.7min\n",
      "[Parallel(n_jobs=-1)]: Done 4125 tasks      | elapsed:  5.9min\n",
      "[Parallel(n_jobs=-1)]: Done 4216 tasks      | elapsed:  6.1min\n",
      "[Parallel(n_jobs=-1)]: Done 4309 tasks      | elapsed:  6.4min\n",
      "[Parallel(n_jobs=-1)]: Done 4402 tasks      | elapsed:  6.4min\n",
      "[Parallel(n_jobs=-1)]: Done 4497 tasks      | elapsed:  6.5min\n",
      "[Parallel(n_jobs=-1)]: Done 4592 tasks      | elapsed:  6.6min\n",
      "[Parallel(n_jobs=-1)]: Done 4689 tasks      | elapsed:  6.7min\n",
      "[Parallel(n_jobs=-1)]: Done 4786 tasks      | elapsed:  6.7min\n",
      "[Parallel(n_jobs=-1)]: Done 4885 tasks      | elapsed:  6.9min\n",
      "[Parallel(n_jobs=-1)]: Done 4984 tasks      | elapsed:  7.0min\n",
      "[Parallel(n_jobs=-1)]: Done 5085 tasks      | elapsed:  7.2min\n",
      "[Parallel(n_jobs=-1)]: Done 5186 tasks      | elapsed:  7.3min\n",
      "[Parallel(n_jobs=-1)]: Done 5289 tasks      | elapsed:  7.6min\n",
      "[Parallel(n_jobs=-1)]: Done 5392 tasks      | elapsed:  7.8min\n",
      "[Parallel(n_jobs=-1)]: Done 5497 tasks      | elapsed:  7.9min\n",
      "[Parallel(n_jobs=-1)]: Done 5602 tasks      | elapsed:  8.0min\n",
      "[Parallel(n_jobs=-1)]: Done 5709 tasks      | elapsed:  8.1min\n",
      "[Parallel(n_jobs=-1)]: Done 5816 tasks      | elapsed:  8.2min\n",
      "[Parallel(n_jobs=-1)]: Done 5925 tasks      | elapsed:  8.3min\n",
      "[Parallel(n_jobs=-1)]: Done 6034 tasks      | elapsed:  8.5min\n",
      "[Parallel(n_jobs=-1)]: Done 6145 tasks      | elapsed:  8.7min\n",
      "[Parallel(n_jobs=-1)]: Done 6256 tasks      | elapsed:  8.9min\n",
      "[Parallel(n_jobs=-1)]: Done 6369 tasks      | elapsed:  9.2min\n",
      "[Parallel(n_jobs=-1)]: Done 6482 tasks      | elapsed:  9.5min\n",
      "[Parallel(n_jobs=-1)]: Done 6597 tasks      | elapsed:  9.6min\n",
      "[Parallel(n_jobs=-1)]: Done 6712 tasks      | elapsed:  9.6min\n",
      "[Parallel(n_jobs=-1)]: Done 6829 tasks      | elapsed:  9.7min\n",
      "[Parallel(n_jobs=-1)]: Done 6946 tasks      | elapsed:  9.9min\n",
      "[Parallel(n_jobs=-1)]: Done 7065 tasks      | elapsed: 10.0min\n",
      "[Parallel(n_jobs=-1)]: Done 7184 tasks      | elapsed: 10.2min\n",
      "[Parallel(n_jobs=-1)]: Done 7305 tasks      | elapsed: 10.4min\n",
      "[Parallel(n_jobs=-1)]: Done 7426 tasks      | elapsed: 10.6min\n",
      "[Parallel(n_jobs=-1)]: Done 7549 tasks      | elapsed: 10.9min\n",
      "[Parallel(n_jobs=-1)]: Done 7672 tasks      | elapsed: 11.0min\n",
      "[Parallel(n_jobs=-1)]: Done 7797 tasks      | elapsed: 11.1min\n",
      "[Parallel(n_jobs=-1)]: Done 7922 tasks      | elapsed: 11.2min\n",
      "[Parallel(n_jobs=-1)]: Done 8049 tasks      | elapsed: 11.4min\n",
      "[Parallel(n_jobs=-1)]: Done 8176 tasks      | elapsed: 11.6min\n",
      "[Parallel(n_jobs=-1)]: Done 8305 tasks      | elapsed: 11.8min\n",
      "[Parallel(n_jobs=-1)]: Done 8434 tasks      | elapsed: 12.0min\n",
      "[Parallel(n_jobs=-1)]: Done 8565 tasks      | elapsed: 12.3min\n",
      "[Parallel(n_jobs=-1)]: Done 8696 tasks      | elapsed: 12.6min\n",
      "[Parallel(n_jobs=-1)]: Done 8829 tasks      | elapsed: 12.7min\n",
      "[Parallel(n_jobs=-1)]: Done 8962 tasks      | elapsed: 12.8min\n",
      "[Parallel(n_jobs=-1)]: Done 9097 tasks      | elapsed: 13.0min\n"
     ]
    },
    {
     "name": "stderr",
     "output_type": "stream",
     "text": [
      "[Parallel(n_jobs=-1)]: Done 9232 tasks      | elapsed: 13.2min\n",
      "[Parallel(n_jobs=-1)]: Done 9369 tasks      | elapsed: 13.4min\n",
      "[Parallel(n_jobs=-1)]: Done 9506 tasks      | elapsed: 13.7min\n",
      "[Parallel(n_jobs=-1)]: Done 9645 tasks      | elapsed: 14.0min\n",
      "[Parallel(n_jobs=-1)]: Done 9784 tasks      | elapsed: 14.3min\n",
      "[Parallel(n_jobs=-1)]: Done 9925 tasks      | elapsed: 14.4min\n",
      "[Parallel(n_jobs=-1)]: Done 10066 tasks      | elapsed: 14.6min\n",
      "[Parallel(n_jobs=-1)]: Done 10209 tasks      | elapsed: 14.8min\n",
      "[Parallel(n_jobs=-1)]: Done 10352 tasks      | elapsed: 15.1min\n",
      "[Parallel(n_jobs=-1)]: Done 10497 tasks      | elapsed: 15.4min\n",
      "[Parallel(n_jobs=-1)]: Done 10642 tasks      | elapsed: 15.7min\n",
      "[Parallel(n_jobs=-1)]: Done 10789 tasks      | elapsed: 16.2min\n",
      "[Parallel(n_jobs=-1)]: Done 10936 tasks      | elapsed: 16.4min\n",
      "[Parallel(n_jobs=-1)]: Done 11085 tasks      | elapsed: 16.5min\n",
      "[Parallel(n_jobs=-1)]: Done 11234 tasks      | elapsed: 16.7min\n",
      "[Parallel(n_jobs=-1)]: Done 11385 tasks      | elapsed: 16.9min\n",
      "[Parallel(n_jobs=-1)]: Done 11536 tasks      | elapsed: 17.2min\n",
      "[Parallel(n_jobs=-1)]: Done 11689 tasks      | elapsed: 17.4min\n",
      "[Parallel(n_jobs=-1)]: Done 11842 tasks      | elapsed: 17.8min\n",
      "[Parallel(n_jobs=-1)]: Done 11997 tasks      | elapsed: 18.0min\n",
      "[Parallel(n_jobs=-1)]: Done 12152 tasks      | elapsed: 18.2min\n",
      "[Parallel(n_jobs=-1)]: Done 12309 tasks      | elapsed: 18.4min\n",
      "[Parallel(n_jobs=-1)]: Done 12466 tasks      | elapsed: 18.7min\n",
      "[Parallel(n_jobs=-1)]: Done 12625 tasks      | elapsed: 19.1min\n",
      "[Parallel(n_jobs=-1)]: Done 12784 tasks      | elapsed: 19.4min\n",
      "[Parallel(n_jobs=-1)]: Done 13106 tasks      | elapsed: 23.6min\n",
      "[Parallel(n_jobs=-1)]: Done 13269 tasks      | elapsed: 23.7min\n",
      "[Parallel(n_jobs=-1)]: Done 13432 tasks      | elapsed: 23.9min\n",
      "[Parallel(n_jobs=-1)]: Done 13597 tasks      | elapsed: 24.2min\n",
      "[Parallel(n_jobs=-1)]: Done 13762 tasks      | elapsed: 24.6min\n",
      "[Parallel(n_jobs=-1)]: Done 13929 tasks      | elapsed: 25.0min\n",
      "[Parallel(n_jobs=-1)]: Done 14096 tasks      | elapsed: 25.3min\n",
      "[Parallel(n_jobs=-1)]: Done 14265 tasks      | elapsed: 25.6min\n",
      "[Parallel(n_jobs=-1)]: Done 14434 tasks      | elapsed: 25.9min\n",
      "[Parallel(n_jobs=-1)]: Done 14605 tasks      | elapsed: 26.2min\n",
      "[Parallel(n_jobs=-1)]: Done 14776 tasks      | elapsed: 26.5min\n",
      "[Parallel(n_jobs=-1)]: Done 14949 tasks      | elapsed: 26.9min\n",
      "[Parallel(n_jobs=-1)]: Done 15122 tasks      | elapsed: 27.4min\n",
      "[Parallel(n_jobs=-1)]: Done 15297 tasks      | elapsed: 27.5min\n",
      "[Parallel(n_jobs=-1)]: Done 15472 tasks      | elapsed: 27.7min\n",
      "[Parallel(n_jobs=-1)]: Done 15649 tasks      | elapsed: 27.9min\n",
      "[Parallel(n_jobs=-1)]: Done 15826 tasks      | elapsed: 28.2min\n",
      "[Parallel(n_jobs=-1)]: Done 16005 tasks      | elapsed: 28.5min\n",
      "[Parallel(n_jobs=-1)]: Done 16184 tasks      | elapsed: 28.9min\n",
      "[Parallel(n_jobs=-1)]: Done 16365 tasks      | elapsed: 29.1min\n",
      "[Parallel(n_jobs=-1)]: Done 16546 tasks      | elapsed: 29.3min\n",
      "[Parallel(n_jobs=-1)]: Done 16729 tasks      | elapsed: 29.5min\n",
      "[Parallel(n_jobs=-1)]: Done 16912 tasks      | elapsed: 29.9min\n",
      "[Parallel(n_jobs=-1)]: Done 17097 tasks      | elapsed: 30.2min\n",
      "[Parallel(n_jobs=-1)]: Done 17282 tasks      | elapsed: 30.8min\n",
      "[Parallel(n_jobs=-1)]: Done 17469 tasks      | elapsed: 30.9min\n",
      "[Parallel(n_jobs=-1)]: Done 17656 tasks      | elapsed: 31.1min\n",
      "[Parallel(n_jobs=-1)]: Done 17845 tasks      | elapsed: 31.4min\n",
      "[Parallel(n_jobs=-1)]: Done 18034 tasks      | elapsed: 31.7min\n",
      "[Parallel(n_jobs=-1)]: Done 18225 tasks      | elapsed: 32.1min\n",
      "[Parallel(n_jobs=-1)]: Done 18416 tasks      | elapsed: 32.5min\n",
      "[Parallel(n_jobs=-1)]: Done 18609 tasks      | elapsed: 32.7min\n",
      "[Parallel(n_jobs=-1)]: Done 18802 tasks      | elapsed: 32.9min\n",
      "[Parallel(n_jobs=-1)]: Done 18997 tasks      | elapsed: 33.3min\n",
      "[Parallel(n_jobs=-1)]: Done 19192 tasks      | elapsed: 33.7min\n",
      "[Parallel(n_jobs=-1)]: Done 19389 tasks      | elapsed: 34.3min\n",
      "[Parallel(n_jobs=-1)]: Done 19586 tasks      | elapsed: 34.6min\n",
      "[Parallel(n_jobs=-1)]: Done 19785 tasks      | elapsed: 34.8min\n",
      "[Parallel(n_jobs=-1)]: Done 19984 tasks      | elapsed: 35.0min\n",
      "[Parallel(n_jobs=-1)]: Done 20185 tasks      | elapsed: 35.4min\n",
      "[Parallel(n_jobs=-1)]: Done 20386 tasks      | elapsed: 35.8min\n",
      "[Parallel(n_jobs=-1)]: Done 20589 tasks      | elapsed: 36.2min\n",
      "[Parallel(n_jobs=-1)]: Done 20792 tasks      | elapsed: 36.4min\n",
      "[Parallel(n_jobs=-1)]: Done 20997 tasks      | elapsed: 36.7min\n",
      "[Parallel(n_jobs=-1)]: Done 21202 tasks      | elapsed: 37.1min\n",
      "[Parallel(n_jobs=-1)]: Done 21409 tasks      | elapsed: 37.6min\n",
      "[Parallel(n_jobs=-1)]: Done 21616 tasks      | elapsed: 38.2min\n",
      "[Parallel(n_jobs=-1)]: Done 21825 tasks      | elapsed: 38.4min\n",
      "[Parallel(n_jobs=-1)]: Done 22034 tasks      | elapsed: 38.6min\n",
      "[Parallel(n_jobs=-1)]: Done 22245 tasks      | elapsed: 38.9min\n",
      "[Parallel(n_jobs=-1)]: Done 22456 tasks      | elapsed: 39.3min\n",
      "[Parallel(n_jobs=-1)]: Done 22669 tasks      | elapsed: 39.8min\n",
      "[Parallel(n_jobs=-1)]: Done 22882 tasks      | elapsed: 40.0min\n",
      "[Parallel(n_jobs=-1)]: Done 23097 tasks      | elapsed: 40.3min\n",
      "[Parallel(n_jobs=-1)]: Done 23312 tasks      | elapsed: 40.7min\n",
      "[Parallel(n_jobs=-1)]: Done 23529 tasks      | elapsed: 41.1min\n",
      "[Parallel(n_jobs=-1)]: Done 23746 tasks      | elapsed: 41.8min\n",
      "[Parallel(n_jobs=-1)]: Done 23965 tasks      | elapsed: 41.9min\n",
      "[Parallel(n_jobs=-1)]: Done 24184 tasks      | elapsed: 42.2min\n",
      "[Parallel(n_jobs=-1)]: Done 24405 tasks      | elapsed: 42.5min\n",
      "[Parallel(n_jobs=-1)]: Done 24626 tasks      | elapsed: 42.9min\n",
      "[Parallel(n_jobs=-1)]: Done 24849 tasks      | elapsed: 43.3min\n",
      "[Parallel(n_jobs=-1)]: Done 25072 tasks      | elapsed: 43.5min\n",
      "[Parallel(n_jobs=-1)]: Done 25297 tasks      | elapsed: 43.8min\n",
      "[Parallel(n_jobs=-1)]: Done 25522 tasks      | elapsed: 44.2min\n",
      "[Parallel(n_jobs=-1)]: Done 25749 tasks      | elapsed: 44.7min\n",
      "[Parallel(n_jobs=-1)]: Done 25976 tasks      | elapsed: 45.2min\n",
      "[Parallel(n_jobs=-1)]: Done 26205 tasks      | elapsed: 45.5min\n",
      "[Parallel(n_jobs=-1)]: Done 26434 tasks      | elapsed: 46.0min\n",
      "[Parallel(n_jobs=-1)]: Done 26665 tasks      | elapsed: 46.8min\n"
     ]
    }
   ],
   "source": [
    "# Bulinding LightGBM classifier with CV\n",
    "lgbm = LGBMClassifier(random_state=1234)\n",
    "gridParams = {\n",
    "    'learning_rate': [0.005, 0.01,0.1,0.3],# shrinkage rate at which model learns\n",
    "    'n_estimators': [50,100,150],# Number of gradient boosted trees. Equivalent to number of boosting rounds.\n",
    "    'num_leaves': [6,8,12,16], # large num_leaves helps improve accuracy but might lead to over-fitting\n",
    "    'boosting_type' : ['gbdt', 'dart'], # for better accuracy \n",
    "    'max_bin':[255, 510], # large max_bin helps improve accuracy but might slow down training progress\n",
    "    'random_state' : [500],# Random number seed.\n",
    "    'colsample_bytree' : [0.64, 0.65, 0.66],# Subsample ratio of columns when constructing each tree.\n",
    "    'subsample' : [0.7,0.75,0.8],# Subsample ratio of the training instance.\n",
    "    'reg_alpha' : [1,1.2],# L1 regularization term on weights\n",
    "    'reg_lambda' : [1,1.2,1.4],# L2 regularization term on weights\n",
    "    }\n",
    "grid_lgbm = GridSearchCV(lgbm, gridParams, verbose=10, cv=5, n_jobs=-1)\n",
    "grid_lgbm.fit(x_train, y_train) "
   ]
  },
  {
   "cell_type": "code",
   "execution_count": null,
   "metadata": {},
   "outputs": [],
   "source": [
    "y_train_predict_lgbm_cv = grid_lgbm.best_estimator_.predict(x_train)\n",
    "y_test_predict_lgbm_cv = grid_lgbm.best_estimator_.predict(df_test) "
   ]
  },
  {
   "cell_type": "code",
   "execution_count": null,
   "metadata": {},
   "outputs": [],
   "source": [
    "classifcation_report_train_test(y_train, y_train_predict_lgbm_cv)"
   ]
  },
  {
   "cell_type": "code",
   "execution_count": null,
   "metadata": {},
   "outputs": [],
   "source": [
    "df_test_lgbm_cv = df_test.copy() \n",
    "df_test_lgbm_cv[\"downtime_duration\"] = y_test_predict_lgbm_cv"
   ]
  },
  {
   "cell_type": "code",
   "execution_count": null,
   "metadata": {},
   "outputs": [],
   "source": [
    "df_test_lgbm_cv.drop([\"factory_number\", \"issue_type\", \"assembly_line_type\", \"car_variant\",\n",
    "                   \"log_report_type\", \"volume\"], axis=1, inplace = True) "
   ]
  },
  {
   "cell_type": "code",
   "execution_count": null,
   "metadata": {},
   "outputs": [],
   "source": [
    "df_test_lgbm_cv.head() "
   ]
  },
  {
   "cell_type": "code",
   "execution_count": null,
   "metadata": {},
   "outputs": [],
   "source": [
    "# Creating the csv file\n",
    "df_test_lgbm_cv.to_csv(\"df_test_lgbm_cv.csv\", sep=\",\", index=False)"
   ]
  },
  {
   "cell_type": "code",
   "execution_count": null,
   "metadata": {},
   "outputs": [],
   "source": [
    "# Building Xgboost Classifier\n",
    "\n",
    "params = {\n",
    "        'min_child_weight': [1, 5, 10],\n",
    "        'gamma': [0.5, 1, 1.5, 2, 5],\n",
    "        'subsample': [0.6, 0.8, 1.0],\n",
    "        'colsample_bytree': [0.6, 0.8, 1.0],\n",
    "        'max_depth': [3, 4, 5]\n",
    "        }\n",
    "model = XGBClassifier(n_estimators=200,learning_rate=0.02, random_state=1234) "
   ]
  },
  {
   "cell_type": "code",
   "execution_count": null,
   "metadata": {},
   "outputs": [],
   "source": [
    "gd_xgb = GridSearchCV(model, param_grid=params,n_jobs=-1,verbose=10,cv=10)\n",
    "gd_xgb.fit(x_train, y_train)"
   ]
  },
  {
   "cell_type": "code",
   "execution_count": null,
   "metadata": {},
   "outputs": [],
   "source": [
    "y_train_predict_xgb_cv = gd_xgb.best_estimator_.predict(x_train)\n",
    "y_test_predict_xgb_cv = gd_xgb.best_estimator_.predict(df_test)"
   ]
  },
  {
   "cell_type": "code",
   "execution_count": null,
   "metadata": {},
   "outputs": [],
   "source": [
    "classifcation_report_train_test(y_train, y_train_predict_xgb_cv) "
   ]
  },
  {
   "cell_type": "code",
   "execution_count": null,
   "metadata": {},
   "outputs": [],
   "source": [
    "# XgBoost with more parameters\n",
    "model = XGBClassifier(random_state=1234)\n",
    "gridParams = {\n",
    "    'learning_rate': [0.005, 0.01,0.1,0.3],# shrinkage rate at which model learns\n",
    "    'n_estimators': [50,100,150],# Number of gradient boosted trees. Equivalent to number of boosting rounds.\n",
    "    'num_leaves': [6,8,12,16], # large num_leaves helps improve accuracy but might lead to over-fitting\n",
    "    'boosting_type' : ['gbdt', 'dart'], # for better accuracy \n",
    "    'objective' : ['multi:softmax'],# mentioning objective as multiclass classification Model\n",
    "    'max_bin':[255, 510], # large max_bin helps improve accuracy but might slow down training progress\n",
    "    'random_state' : [500],# Random number seed.\n",
    "    'colsample_bytree' : [0.64, 0.65, 0.66],# Subsample ratio of columns when constructing each tree.\n",
    "    'subsample' : [0.7,0.75,0.8],# Subsample ratio of the training instance.\n",
    "    'reg_alpha' : [1,1.2],# L1 regularization term on weights\n",
    "    'reg_lambda' : [1,1.2,1.4],# L2 regularization term on weights\n",
    "    'num_class' : [3],\n",
    "    }\n",
    "grid_xgb = GridSearchCV(model, gridParams, verbose=10, cv=5, n_jobs=-1)\n",
    "grid_xgb.fit(x_train, y_train)"
   ]
  },
  {
   "cell_type": "markdown",
   "metadata": {},
   "source": [
    "# Further Suggestion"
   ]
  },
  {
   "cell_type": "markdown",
   "metadata": {},
   "source": [
    "In This Data set we have an indirect mapping between id, assembly_line_type, car_variant and log_report_type. if we had a direct mapping, our data would have been more granular and the models would have made better predictions . For Example we don't have a mapping like what all car_variant are there for a particular assembly_line_type or what all log_report_type are there for a car_variant\n",
    "\n",
    "if we had such a data with direct mapping, we can improve the model predictions\n",
    "\n",
    "With time constraint at hand, I wasn't able to improve it further, but Another approach that can help n improving the model further is by adding counts of assembly_line_type, Car_variant, log_report_type with respect to each id. Adding these features, I believe will improve the model further."
   ]
  }
 ],
 "metadata": {
  "kernelspec": {
   "display_name": "Python 3",
   "language": "python",
   "name": "python3"
  },
  "language_info": {
   "codemirror_mode": {
    "name": "ipython",
    "version": 3
   },
   "file_extension": ".py",
   "mimetype": "text/x-python",
   "name": "python",
   "nbconvert_exporter": "python",
   "pygments_lexer": "ipython3",
   "version": "3.7.6"
  }
 },
 "nbformat": 4,
 "nbformat_minor": 2
}
